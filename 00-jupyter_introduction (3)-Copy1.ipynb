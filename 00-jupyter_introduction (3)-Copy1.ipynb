{
 "cells": [
  {
   "cell_type": "markdown",
   "metadata": {
    "slideshow": {
     "slide_type": "slide"
    }
   },
   "source": [
    "<p><font size=\"6\"><b>Jupyter notebook INTRODUCTION </b></font></p>\n",
    "\n",
    "\n",
    "> *DS Data manipulation, analysis and visualisation in Python*  \n",
    "> *September, 2020*\n",
    "\n",
    "\n",
    "\n",
    "---"
   ]
  },
  {
   "cell_type": "code",
   "execution_count": 2,
   "metadata": {
    "run_control": {
     "frozen": false,
     "read_only": false
    },
    "slideshow": {
     "slide_type": "subslide"
    }
   },
   "outputs": [
    {
     "data": {
      "text/html": [
       "<img src=\"http://python.org/images/python-logo.gif\"/>"
      ],
      "text/plain": [
       "<IPython.core.display.Image object>"
      ]
     },
     "execution_count": 2,
     "metadata": {},
     "output_type": "execute_result"
    }
   ],
   "source": [
    "from IPython.display import Image\n",
    "Image(url='http://python.org/images/python-logo.gif')"
   ]
  },
  {
   "cell_type": "code",
   "execution_count": 7,
   "metadata": {},
   "outputs": [
    {
     "data": {
      "text/html": [
       "<img src=\"https://www.python.org/static/img/python-logo.png\"/>"
      ],
      "text/plain": [
       "<IPython.core.display.Image object>"
      ]
     },
     "execution_count": 7,
     "metadata": {},
     "output_type": "execute_result"
    }
   ],
   "source": [
    "Image(url = \"https://www.python.org/static/img/python-logo.png\")"
   ]
  },
  {
   "cell_type": "markdown",
   "metadata": {
    "slideshow": {
     "slide_type": "slide"
    }
   },
   "source": [
    "<big><center>To run a cell: push the start triangle in the menu or type **SHIFT + ENTER/RETURN**\n",
    "![](../../img/shiftenter.jpg)"
   ]
  },
  {
   "cell_type": "markdown",
   "metadata": {},
   "source": [
    "# Notebook cell types"
   ]
  },
  {
   "cell_type": "markdown",
   "metadata": {
    "slideshow": {
     "slide_type": "fragment"
    }
   },
   "source": [
    "We will work in **Jupyter notebooks** during this course. A notebook is a collection of `cells`, that can contain different content:"
   ]
  },
  {
   "cell_type": "markdown",
   "metadata": {
    "slideshow": {
     "slide_type": "slide"
    }
   },
   "source": [
    "## Code"
   ]
  },
  {
   "cell_type": "code",
   "execution_count": 8,
   "metadata": {
    "run_control": {
     "frozen": false,
     "read_only": false
    },
    "slideshow": {
     "slide_type": "fragment"
    }
   },
   "outputs": [
    {
     "name": "stdout",
     "output_type": "stream",
     "text": [
      "Hello DS\n"
     ]
    }
   ],
   "source": [
    "# Code cell, then we are using python\n",
    "print('Hello DS')"
   ]
  },
  {
   "cell_type": "code",
   "execution_count": 9,
   "metadata": {},
   "outputs": [
    {
     "name": "stdout",
     "output_type": "stream",
     "text": [
      "Hello World\n"
     ]
    }
   ],
   "source": [
    "print(\"Hello World\") #### Affichage de la chaine de caractère"
   ]
  },
  {
   "cell_type": "code",
   "execution_count": 3,
   "metadata": {
    "run_control": {
     "frozen": false,
     "read_only": false
    },
    "slideshow": {
     "slide_type": "fragment"
    }
   },
   "outputs": [
    {
     "name": "stdout",
     "output_type": "stream",
     "text": [
      "15\n"
     ]
    }
   ],
   "source": [
    "DS = 10\n",
    "print(DS + 5) # Yes, we advise to use Python 3 (!)"
   ]
  },
  {
   "cell_type": "markdown",
   "metadata": {},
   "source": [
    "Writing code is what you will do most during this course!"
   ]
  },
  {
   "cell_type": "markdown",
   "metadata": {},
   "source": [
    "<h1>Titre  1</h1>"
   ]
  },
  {
   "cell_type": "markdown",
   "metadata": {},
   "source": [
    "# Titre 1"
   ]
  },
  {
   "cell_type": "markdown",
   "metadata": {},
   "source": [
    "#### Titre 4"
   ]
  },
  {
   "cell_type": "markdown",
   "metadata": {
    "slideshow": {
     "slide_type": "slide"
    }
   },
   "source": [
    "## Markdown"
   ]
  },
  {
   "cell_type": "markdown",
   "metadata": {
    "slideshow": {
     "slide_type": "fragment"
    }
   },
   "source": [
    "Text cells, using Markdown syntax. With the syntax, you can make text **bold** or *italic*, amongst many other things..."
   ]
  },
  {
   "cell_type": "markdown",
   "metadata": {
    "slideshow": {
     "slide_type": "slide"
    }
   },
   "source": [
    "* list\n",
    "* with\n",
    "* items\n",
    "\n",
    "[Link to interesting resources](https://github.com/adam-p/markdown-here/wiki/Markdown-Cheatsheet#images) or images: ![images](https://listame.files.wordpress.com/2012/02/bender-1.jpg)\n",
    "\n",
    "> Blockquotes if you like them\n",
    "> This line is part of the same blockquote."
   ]
  },
  {
   "cell_type": "markdown",
   "metadata": {
    "slideshow": {
     "slide_type": "slide"
    }
   },
   "source": [
    "Mathematical formulas can also be incorporated (LaTeX it is...)\n",
    "$$\\frac{dBZV}{dt}=BZV_{in} - k_1 .BZV$$\n",
    "$$\\frac{dOZ}{dt}=k_2 .(OZ_{sat}-OZ) - k_1 .BZV$$"
   ]
  },
  {
   "cell_type": "markdown",
   "metadata": {
    "slideshow": {
     "slide_type": "subslide"
    }
   },
   "source": [
    "Or tables:\n",
    "\n",
    "course | points\n",
    " --- | --- \n",
    " Math | 8\n",
    " Chemistry | 4\n",
    "\n",
    "or tables with Latex..\n",
    "\n",
    " Symbool | verklaring\n",
    " --- | --- \n",
    " $BZV_{(t=0)}$      | initiële biochemische zuurstofvraag (7.33 mg.l-1)\n",
    " $OZ_{(t=0)}$\t    | initiële opgeloste zuurstof (8.5 mg.l-1)\n",
    " $BZV_{in}$\t\t  | input BZV(1 mg.l-1.min-1)\n",
    " $OZ_{sat}$\t\t  | saturatieconcentratie opgeloste zuurstof (11 mg.l-1)\n",
    " $k_1$\t\t      | bacteriële degradatiesnelheid (0.3 min-1)\n",
    " $k_2$\t\t      | reäeratieconstante (0.4 min-1)"
   ]
  },
  {
   "cell_type": "markdown",
   "metadata": {
    "slideshow": {
     "slide_type": "subslide"
    }
   },
   "source": [
    "Code can also be incorporated, but than just to illustrate:"
   ]
  },
  {
   "cell_type": "markdown",
   "metadata": {
    "slideshow": {
     "slide_type": "fragment"
    }
   },
   "source": [
    "```python\n",
    "BOT = 12\n",
    "print(BOT)\n",
    "```"
   ]
  },
  {
   "cell_type": "markdown",
   "metadata": {
    "slideshow": {
     "slide_type": "fragment"
    }
   },
   "source": [
    "See also: https://github.com/adam-p/markdown-here/wiki/Markdown-Cheatsheet"
   ]
  },
  {
   "cell_type": "markdown",
   "metadata": {},
   "source": [
    "## HTML"
   ]
  },
  {
   "cell_type": "markdown",
   "metadata": {
    "slideshow": {
     "slide_type": "slide"
    }
   },
   "source": [
    "You can also use HTML commands, just check this cell:\n",
    "<h3> html-adapted titel with &#60;h3&#62; </h3> <p></p>\n",
    "<b> Bold text &#60;b&#62; </b> of <i>or italic &#60;i&#62; </i>"
   ]
  },
  {
   "cell_type": "markdown",
   "metadata": {
    "slideshow": {
     "slide_type": "fragment"
    }
   },
   "source": [
    "## Headings of different sizes: section\n",
    "### subsection\n",
    "#### subsubsection"
   ]
  },
  {
   "cell_type": "markdown",
   "metadata": {
    "slideshow": {
     "slide_type": "slide"
    }
   },
   "source": [
    "## Raw Text"
   ]
  },
  {
   "cell_type": "raw",
   "metadata": {
    "slideshow": {
     "slide_type": "fragment"
    }
   },
   "source": [
    "Cfr. any text editor"
   ]
  },
  {
   "cell_type": "markdown",
   "metadata": {
    "collapsed": true,
    "slideshow": {
     "slide_type": "slide"
    }
   },
   "source": [
    "# Notebook handling ESSENTIALS"
   ]
  },
  {
   "cell_type": "markdown",
   "metadata": {
    "slideshow": {
     "slide_type": "slide"
    }
   },
   "source": [
    "## Completion: TAB\n",
    "![](../../img/tabbutton.jpg)"
   ]
  },
  {
   "cell_type": "markdown",
   "metadata": {
    "collapsed": true,
    "slideshow": {
     "slide_type": "fragment"
    }
   },
   "source": [
    "* The **TAB** button is essential: It provides you all **possible actions** you can do after loading in a library *AND* it is used for **automatic autocompletion**:"
   ]
  },
  {
   "cell_type": "code",
   "execution_count": 3,
   "metadata": {
    "run_control": {
     "frozen": false,
     "read_only": false
    },
    "slideshow": {
     "slide_type": "subslide"
    }
   },
   "outputs": [
    {
     "data": {
      "text/plain": [
       "<function nt.mkdir(path, mode=511, *, dir_fd=None)>"
      ]
     },
     "execution_count": 3,
     "metadata": {},
     "output_type": "execute_result"
    }
   ],
   "source": [
    "import os\n",
    "os.mkdir"
   ]
  },
  {
   "cell_type": "code",
   "execution_count": 4,
   "metadata": {
    "run_control": {
     "frozen": false,
     "read_only": false
    },
    "slideshow": {
     "slide_type": "fragment"
    }
   },
   "outputs": [],
   "source": [
    "my_very_long_variable_name = 3"
   ]
  },
  {
   "cell_type": "code",
   "execution_count": 5,
   "metadata": {},
   "outputs": [
    {
     "data": {
      "text/plain": [
       "3"
      ]
     },
     "execution_count": 5,
     "metadata": {},
     "output_type": "execute_result"
    }
   ],
   "source": [
    "my_very_long_variable_name"
   ]
  },
  {
   "cell_type": "raw",
   "metadata": {
    "slideshow": {
     "slide_type": "fragment"
    }
   },
   "source": [
    "my_ + TAB"
   ]
  },
  {
   "cell_type": "markdown",
   "metadata": {
    "slideshow": {
     "slide_type": "slide"
    }
   },
   "source": [
    "## Help: SHIFT + TAB\n",
    "![](../../img/shift-tab.png)"
   ]
  },
  {
   "cell_type": "markdown",
   "metadata": {
    "collapsed": true,
    "slideshow": {
     "slide_type": "subslide"
    }
   },
   "source": [
    "* The  **SHIFT-TAB** combination is ultra essential to get information/help about the current operation "
   ]
  },
  {
   "cell_type": "code",
   "execution_count": 6,
   "metadata": {
    "run_control": {
     "frozen": false,
     "read_only": false
    },
    "slideshow": {
     "slide_type": "fragment"
    }
   },
   "outputs": [
    {
     "data": {
      "text/plain": [
       "3"
      ]
     },
     "execution_count": 6,
     "metadata": {},
     "output_type": "execute_result"
    }
   ],
   "source": [
    "round(3.2)"
   ]
  },
  {
   "cell_type": "code",
   "execution_count": 7,
   "metadata": {
    "run_control": {
     "frozen": false,
     "read_only": false
    },
    "slideshow": {
     "slide_type": "fragment"
    }
   },
   "outputs": [
    {
     "data": {
      "text/plain": [
       "<function nt.mkdir(path, mode=511, *, dir_fd=None)>"
      ]
     },
     "execution_count": 7,
     "metadata": {},
     "output_type": "execute_result"
    }
   ],
   "source": [
    "os.mkdir"
   ]
  },
  {
   "cell_type": "code",
   "execution_count": 6,
   "metadata": {
    "run_control": {
     "frozen": false,
     "read_only": false
    },
    "slideshow": {
     "slide_type": "fragment"
    }
   },
   "outputs": [],
   "source": [
    "# An alternative is to put a question mark behind the command\n",
    "os.mkdir?"
   ]
  },
  {
   "cell_type": "markdown",
   "metadata": {
    "slideshow": {
     "slide_type": "subslide"
    }
   },
   "source": [
    "<div class=\"alert alert-success\">\n",
    "    <b>EXERCISE</b>: What happens if you put two question marks behind the command?\n",
    "</div>"
   ]
  },
  {
   "cell_type": "code",
   "execution_count": 7,
   "metadata": {
    "run_control": {
     "frozen": false,
     "read_only": false
    },
    "slideshow": {
     "slide_type": "fragment"
    }
   },
   "outputs": [],
   "source": [
    "import glob\n",
    "glob.glob??"
   ]
  },
  {
   "cell_type": "code",
   "execution_count": 8,
   "metadata": {},
   "outputs": [],
   "source": [
    "os.mkdir??"
   ]
  },
  {
   "cell_type": "markdown",
   "metadata": {
    "slideshow": {
     "slide_type": "slide"
    }
   },
   "source": [
    "## *edit* mode to *command* mode\n",
    "\n",
    "* *edit* mode means you're editing a cell, i.e. with your cursor inside a cell to type content --> <font color=\"green\">green colored side</font>\n",
    "* *command* mode means you're NOT editing(!), i.e. NOT with your cursor inside a cell to type content --> <font color=\"blue\">blue colored side</font>\n",
    "\n",
    "To start editing, click inside a cell or \n",
    "<img src=\"img/enterbutton.png\" alt=\"Key enter\" style=\"width:150px\">\n",
    "\n",
    "To s stop edting,\n",
    "<img src=\"img/keyescape.png\" alt=\"Key A\" style=\"width:150px\">"
   ]
  },
  {
   "cell_type": "markdown",
   "metadata": {
    "slideshow": {
     "slide_type": "slide"
    }
   },
   "source": [
    "## new cell A-bove\n",
    "<img src=\"img/keya.png\" alt=\"Key A\" style=\"width:150px\">\n",
    "\n",
    "Create a new cell above with the key A... when in *command* mode"
   ]
  },
  {
   "cell_type": "markdown",
   "metadata": {
    "slideshow": {
     "slide_type": "slide"
    }
   },
   "source": [
    "## new cell B-elow\n",
    "<img src=\"img/keyb.png\" alt=\"Key B\" style=\"width:150px\">\n",
    "\n",
    "Create a new cell below with the key B... when in *command* mode"
   ]
  },
  {
   "cell_type": "markdown",
   "metadata": {
    "slideshow": {
     "slide_type": "slide"
    }
   },
   "source": [
    "## CTRL + SHIFT + P"
   ]
  },
  {
   "cell_type": "markdown",
   "metadata": {
    "slideshow": {
     "slide_type": "fragment"
    }
   },
   "source": [
    "Just do it!"
   ]
  },
  {
   "cell_type": "markdown",
   "metadata": {
    "slideshow": {
     "slide_type": "slide"
    }
   },
   "source": [
    "## Trouble..."
   ]
  },
  {
   "cell_type": "markdown",
   "metadata": {
    "slideshow": {
     "slide_type": "fragment"
    }
   },
   "source": [
    "<div class=\"alert alert-danger\">\n",
    "    <b>NOTE</b>: When you're stuck, or things do crash: \n",
    "    <ul>\n",
    "    <li> first try **Kernel** > **Interrupt** -> your cell should stop running\n",
    "    <li> if no succes -> **Kernel** > **Restart** -> restart your notebook\n",
    "    </ul>\n",
    "</div>"
   ]
  },
  {
   "cell_type": "markdown",
   "metadata": {
    "slideshow": {
     "slide_type": "slide"
    }
   },
   "source": [
    "## Overload?!?"
   ]
  },
  {
   "cell_type": "markdown",
   "metadata": {
    "slideshow": {
     "slide_type": "subslide"
    }
   },
   "source": [
    "<img src=\"img/toomuch.jpg\" alt=\"Key A\" style=\"width:500px\">\n",
    "<br><br>\n",
    "<center>No stress, just go to </center>\n",
    "<br>\n",
    "<center><p style=\"font-size: 200%;text-align: center;margin:500\">`Help` > `Keyboard shortcuts`</p></center>"
   ]
  },
  {
   "cell_type": "markdown",
   "metadata": {
    "slideshow": {
     "slide_type": "fragment"
    }
   },
   "source": [
    "* **Stackoverflow** is really, really, really nice!\n",
    "\n",
    "  http://stackoverflow.com/questions/tagged/python"
   ]
  },
  {
   "cell_type": "markdown",
   "metadata": {
    "slideshow": {
     "slide_type": "fragment"
    }
   },
   "source": [
    "* Google search is with you!"
   ]
  },
  {
   "cell_type": "markdown",
   "metadata": {
    "slideshow": {
     "slide_type": "slide"
    }
   },
   "source": [
    "<big><center>**REMEMBER**: To run a cell: <strike>push the start triangle in the menu or</strike> type **SHIFT + ENTER**\n",
    "![](../../img/shiftenter.jpg)"
   ]
  },
  {
   "cell_type": "markdown",
   "metadata": {
    "slideshow": {
     "slide_type": "slide"
    }
   },
   "source": [
    "# some MAGIC..."
   ]
  },
  {
   "cell_type": "markdown",
   "metadata": {
    "slideshow": {
     "slide_type": "slide"
    }
   },
   "source": [
    "## `%psearch`"
   ]
  },
  {
   "cell_type": "code",
   "execution_count": 9,
   "metadata": {
    "run_control": {
     "frozen": false,
     "read_only": false
    },
    "slideshow": {
     "slide_type": "fragment"
    }
   },
   "outputs": [],
   "source": [
    "%psearch os.*dir"
   ]
  },
  {
   "cell_type": "markdown",
   "metadata": {
    "slideshow": {
     "slide_type": "slide"
    }
   },
   "source": [
    "## `%%timeit`"
   ]
  },
  {
   "cell_type": "code",
   "execution_count": 13,
   "metadata": {
    "run_control": {
     "frozen": false,
     "read_only": false
    },
    "slideshow": {
     "slide_type": "fragment"
    }
   },
   "outputs": [
    {
     "name": "stdout",
     "output_type": "stream",
     "text": [
      "2.53 ms ± 687 µs per loop (mean ± std. dev. of 7 runs, 100 loops each)\n"
     ]
    }
   ],
   "source": [
    "%%timeit\n",
    "\n",
    "mylist = range(1000)\n",
    "for i in mylist:\n",
    "    i = i**2"
   ]
  },
  {
   "cell_type": "code",
   "execution_count": 30,
   "metadata": {},
   "outputs": [
    {
     "name": "stdout",
     "output_type": "stream",
     "text": [
      "0\n",
      "1\n",
      "4\n",
      "9\n",
      "16\n",
      "25\n",
      "36\n",
      "49\n",
      "64\n",
      "81\n",
      "100\n",
      "121\n",
      "144\n",
      "169\n",
      "196\n",
      "225\n",
      "256\n",
      "289\n",
      "324\n",
      "361\n",
      "400\n",
      "441\n",
      "484\n",
      "529\n",
      "576\n",
      "625\n",
      "676\n",
      "729\n",
      "784\n",
      "841\n",
      "900\n",
      "961\n",
      "1024\n",
      "1089\n",
      "1156\n",
      "1225\n",
      "1296\n",
      "1369\n",
      "1444\n",
      "1521\n",
      "1600\n",
      "1681\n",
      "1764\n",
      "1849\n",
      "1936\n",
      "2025\n",
      "2116\n",
      "2209\n",
      "2304\n",
      "2401\n",
      "2500\n",
      "2601\n",
      "2704\n",
      "2809\n",
      "2916\n",
      "3025\n",
      "3136\n",
      "3249\n",
      "3364\n",
      "3481\n",
      "3600\n",
      "3721\n",
      "3844\n",
      "3969\n",
      "4096\n",
      "4225\n",
      "4356\n",
      "4489\n",
      "4624\n",
      "4761\n",
      "4900\n",
      "5041\n",
      "5184\n",
      "5329\n",
      "5476\n",
      "5625\n",
      "5776\n",
      "5929\n",
      "6084\n",
      "6241\n",
      "6400\n",
      "6561\n",
      "6724\n",
      "6889\n",
      "7056\n",
      "7225\n",
      "7396\n",
      "7569\n",
      "7744\n",
      "7921\n",
      "8100\n",
      "8281\n",
      "8464\n",
      "8649\n",
      "8836\n",
      "9025\n",
      "9216\n",
      "9409\n",
      "9604\n",
      "9801\n",
      "10000\n",
      "10201\n",
      "10404\n",
      "10609\n",
      "10816\n",
      "11025\n",
      "11236\n",
      "11449\n",
      "11664\n",
      "11881\n",
      "12100\n",
      "12321\n",
      "12544\n",
      "12769\n",
      "12996\n",
      "13225\n",
      "13456\n",
      "13689\n",
      "13924\n",
      "14161\n",
      "14400\n",
      "14641\n",
      "14884\n",
      "15129\n",
      "15376\n",
      "15625\n",
      "15876\n",
      "16129\n",
      "16384\n",
      "16641\n",
      "16900\n",
      "17161\n",
      "17424\n",
      "17689\n",
      "17956\n",
      "18225\n",
      "18496\n",
      "18769\n",
      "19044\n",
      "19321\n",
      "19600\n",
      "19881\n",
      "20164\n",
      "20449\n",
      "20736\n",
      "21025\n",
      "21316\n",
      "21609\n",
      "21904\n",
      "22201\n",
      "22500\n",
      "22801\n",
      "23104\n",
      "23409\n",
      "23716\n",
      "24025\n",
      "24336\n",
      "24649\n",
      "24964\n",
      "25281\n",
      "25600\n",
      "25921\n",
      "26244\n",
      "26569\n",
      "26896\n",
      "27225\n",
      "27556\n",
      "27889\n",
      "28224\n",
      "28561\n",
      "28900\n",
      "29241\n",
      "29584\n",
      "29929\n",
      "30276\n",
      "30625\n",
      "30976\n",
      "31329\n",
      "31684\n",
      "32041\n",
      "32400\n",
      "32761\n",
      "33124\n",
      "33489\n",
      "33856\n",
      "34225\n",
      "34596\n",
      "34969\n",
      "35344\n",
      "35721\n",
      "36100\n",
      "36481\n",
      "36864\n",
      "37249\n",
      "37636\n",
      "38025\n",
      "38416\n",
      "38809\n",
      "39204\n",
      "39601\n",
      "40000\n",
      "40401\n",
      "40804\n",
      "41209\n",
      "41616\n",
      "42025\n",
      "42436\n",
      "42849\n",
      "43264\n",
      "43681\n",
      "44100\n",
      "44521\n",
      "44944\n",
      "45369\n",
      "45796\n",
      "46225\n",
      "46656\n",
      "47089\n",
      "47524\n",
      "47961\n",
      "48400\n",
      "48841\n",
      "49284\n",
      "49729\n",
      "50176\n",
      "50625\n",
      "51076\n",
      "51529\n",
      "51984\n",
      "52441\n",
      "52900\n",
      "53361\n",
      "53824\n",
      "54289\n",
      "54756\n",
      "55225\n",
      "55696\n",
      "56169\n",
      "56644\n",
      "57121\n",
      "57600\n",
      "58081\n",
      "58564\n",
      "59049\n",
      "59536\n",
      "60025\n",
      "60516\n",
      "61009\n",
      "61504\n",
      "62001\n",
      "62500\n",
      "63001\n",
      "63504\n",
      "64009\n",
      "64516\n",
      "65025\n",
      "65536\n",
      "66049\n",
      "66564\n",
      "67081\n",
      "67600\n",
      "68121\n",
      "68644\n",
      "69169\n",
      "69696\n",
      "70225\n",
      "70756\n",
      "71289\n",
      "71824\n",
      "72361\n",
      "72900\n",
      "73441\n",
      "73984\n",
      "74529\n",
      "75076\n",
      "75625\n",
      "76176\n",
      "76729\n",
      "77284\n",
      "77841\n",
      "78400\n",
      "78961\n",
      "79524\n",
      "80089\n",
      "80656\n",
      "81225\n",
      "81796\n",
      "82369\n",
      "82944\n",
      "83521\n",
      "84100\n",
      "84681\n",
      "85264\n",
      "85849\n",
      "86436\n",
      "87025\n",
      "87616\n",
      "88209\n",
      "88804\n",
      "89401\n",
      "90000\n",
      "90601\n",
      "91204\n",
      "91809\n",
      "92416\n",
      "93025\n",
      "93636\n",
      "94249\n",
      "94864\n",
      "95481\n",
      "96100\n",
      "96721\n",
      "97344\n",
      "97969\n",
      "98596\n",
      "99225\n",
      "99856\n",
      "100489\n",
      "101124\n",
      "101761\n",
      "102400\n",
      "103041\n",
      "103684\n",
      "104329\n",
      "104976\n",
      "105625\n",
      "106276\n",
      "106929\n",
      "107584\n",
      "108241\n",
      "108900\n",
      "109561\n",
      "110224\n",
      "110889\n",
      "111556\n",
      "112225\n",
      "112896\n",
      "113569\n",
      "114244\n",
      "114921\n",
      "115600\n",
      "116281\n",
      "116964\n",
      "117649\n",
      "118336\n",
      "119025\n",
      "119716\n",
      "120409\n",
      "121104\n",
      "121801\n",
      "122500\n",
      "123201\n",
      "123904\n",
      "124609\n",
      "125316\n",
      "126025\n",
      "126736\n",
      "127449\n",
      "128164\n",
      "128881\n",
      "129600\n",
      "130321\n",
      "131044\n",
      "131769\n",
      "132496\n",
      "133225\n",
      "133956\n",
      "134689\n",
      "135424\n",
      "136161\n",
      "136900\n",
      "137641\n",
      "138384\n",
      "139129\n",
      "139876\n",
      "140625\n",
      "141376\n",
      "142129\n",
      "142884\n",
      "143641\n",
      "144400\n",
      "145161\n",
      "145924\n",
      "146689\n",
      "147456\n",
      "148225\n",
      "148996\n",
      "149769\n",
      "150544\n",
      "151321\n",
      "152100\n",
      "152881\n",
      "153664\n",
      "154449\n",
      "155236\n",
      "156025\n",
      "156816\n",
      "157609\n",
      "158404\n",
      "159201\n",
      "160000\n",
      "160801\n",
      "161604\n",
      "162409\n",
      "163216\n",
      "164025\n",
      "164836\n",
      "165649\n",
      "166464\n",
      "167281\n",
      "168100\n",
      "168921\n",
      "169744\n",
      "170569\n",
      "171396\n",
      "172225\n",
      "173056\n",
      "173889\n",
      "174724\n",
      "175561\n",
      "176400\n",
      "177241\n",
      "178084\n",
      "178929\n",
      "179776\n",
      "180625\n",
      "181476\n",
      "182329\n",
      "183184\n",
      "184041\n",
      "184900\n",
      "185761\n",
      "186624\n",
      "187489\n",
      "188356\n",
      "189225\n",
      "190096\n",
      "190969\n",
      "191844\n",
      "192721\n",
      "193600\n",
      "194481\n",
      "195364\n",
      "196249\n",
      "197136\n",
      "198025\n",
      "198916\n",
      "199809\n",
      "200704\n",
      "201601\n",
      "202500\n",
      "203401\n",
      "204304\n",
      "205209\n",
      "206116\n",
      "207025\n",
      "207936\n",
      "208849\n",
      "209764\n",
      "210681\n",
      "211600\n",
      "212521\n",
      "213444\n",
      "214369\n",
      "215296\n",
      "216225\n",
      "217156\n",
      "218089\n",
      "219024\n",
      "219961\n",
      "220900\n",
      "221841\n",
      "222784\n",
      "223729\n",
      "224676\n",
      "225625\n",
      "226576\n",
      "227529\n",
      "228484\n",
      "229441\n",
      "230400\n",
      "231361\n",
      "232324\n",
      "233289\n",
      "234256\n",
      "235225\n",
      "236196\n",
      "237169\n",
      "238144\n",
      "239121\n",
      "240100\n",
      "241081\n",
      "242064\n",
      "243049\n",
      "244036\n",
      "245025\n",
      "246016\n",
      "247009\n",
      "248004\n",
      "249001\n",
      "250000\n",
      "251001\n",
      "252004\n",
      "253009\n",
      "254016\n",
      "255025\n",
      "256036\n",
      "257049\n",
      "258064\n",
      "259081\n",
      "260100\n",
      "261121\n",
      "262144\n",
      "263169\n",
      "264196\n",
      "265225\n",
      "266256\n",
      "267289\n",
      "268324\n",
      "269361\n",
      "270400\n",
      "271441\n",
      "272484\n",
      "273529\n",
      "274576\n",
      "275625\n",
      "276676\n",
      "277729\n",
      "278784\n",
      "279841\n",
      "280900\n",
      "281961\n",
      "283024\n",
      "284089\n",
      "285156\n",
      "286225\n",
      "287296\n",
      "288369\n",
      "289444\n",
      "290521\n",
      "291600\n",
      "292681\n",
      "293764\n",
      "294849\n",
      "295936\n",
      "297025\n",
      "298116\n",
      "299209\n",
      "300304\n",
      "301401\n",
      "302500\n",
      "303601\n",
      "304704\n",
      "305809\n",
      "306916\n",
      "308025\n",
      "309136\n",
      "310249\n",
      "311364\n",
      "312481\n",
      "313600\n",
      "314721\n",
      "315844\n",
      "316969\n",
      "318096\n",
      "319225\n",
      "320356\n",
      "321489\n",
      "322624\n",
      "323761\n",
      "324900\n",
      "326041\n",
      "327184\n",
      "328329\n",
      "329476\n",
      "330625\n",
      "331776\n",
      "332929\n",
      "334084\n",
      "335241\n",
      "336400\n",
      "337561\n",
      "338724\n",
      "339889\n",
      "341056\n",
      "342225\n",
      "343396\n",
      "344569\n",
      "345744\n",
      "346921\n",
      "348100\n",
      "349281\n",
      "350464\n",
      "351649\n",
      "352836\n",
      "354025\n",
      "355216\n",
      "356409\n",
      "357604\n",
      "358801\n",
      "360000\n",
      "361201\n",
      "362404\n",
      "363609\n",
      "364816\n",
      "366025\n",
      "367236\n",
      "368449\n",
      "369664\n",
      "370881\n",
      "372100\n",
      "373321\n",
      "374544\n",
      "375769\n",
      "376996\n",
      "378225\n",
      "379456\n",
      "380689\n",
      "381924\n",
      "383161\n",
      "384400\n",
      "385641\n",
      "386884\n",
      "388129\n",
      "389376\n",
      "390625\n",
      "391876\n",
      "393129\n",
      "394384\n",
      "395641\n",
      "396900\n",
      "398161\n",
      "399424\n",
      "400689\n",
      "401956\n",
      "403225\n",
      "404496\n",
      "405769\n",
      "407044\n",
      "408321\n",
      "409600\n",
      "410881\n",
      "412164\n",
      "413449\n",
      "414736\n",
      "416025\n",
      "417316\n",
      "418609\n",
      "419904\n",
      "421201\n",
      "422500\n",
      "423801\n",
      "425104\n",
      "426409\n",
      "427716\n",
      "429025\n",
      "430336\n",
      "431649\n",
      "432964\n",
      "434281\n",
      "435600\n",
      "436921\n",
      "438244\n",
      "439569\n",
      "440896\n",
      "442225\n",
      "443556\n",
      "444889\n",
      "446224\n",
      "447561\n",
      "448900\n",
      "450241\n",
      "451584\n",
      "452929\n",
      "454276\n",
      "455625\n",
      "456976\n",
      "458329\n",
      "459684\n",
      "461041\n",
      "462400\n",
      "463761\n",
      "465124\n",
      "466489\n",
      "467856\n",
      "469225\n",
      "470596\n",
      "471969\n",
      "473344\n",
      "474721\n",
      "476100\n",
      "477481\n",
      "478864\n",
      "480249\n",
      "481636\n",
      "483025\n",
      "484416\n",
      "485809\n",
      "487204\n",
      "488601\n",
      "490000\n",
      "491401\n",
      "492804\n",
      "494209\n",
      "495616\n",
      "497025\n",
      "498436\n",
      "499849\n",
      "501264\n",
      "502681\n",
      "504100\n",
      "505521\n",
      "506944\n",
      "508369\n",
      "509796\n",
      "511225\n",
      "512656\n",
      "514089\n",
      "515524\n",
      "516961\n",
      "518400\n",
      "519841\n",
      "521284\n",
      "522729\n",
      "524176\n",
      "525625\n",
      "527076\n",
      "528529\n",
      "529984\n",
      "531441\n",
      "532900\n",
      "534361\n",
      "535824\n",
      "537289\n",
      "538756\n",
      "540225\n",
      "541696\n",
      "543169\n",
      "544644\n",
      "546121\n",
      "547600\n",
      "549081\n",
      "550564\n",
      "552049\n",
      "553536\n",
      "555025\n",
      "556516\n",
      "558009\n",
      "559504\n",
      "561001\n",
      "562500\n",
      "564001\n",
      "565504\n",
      "567009\n",
      "568516\n",
      "570025\n",
      "571536\n",
      "573049\n",
      "574564\n",
      "576081\n",
      "577600\n",
      "579121\n",
      "580644\n",
      "582169\n",
      "583696\n",
      "585225\n",
      "586756\n",
      "588289\n",
      "589824\n",
      "591361\n",
      "592900\n",
      "594441\n",
      "595984\n",
      "597529\n",
      "599076\n",
      "600625\n",
      "602176\n",
      "603729\n",
      "605284\n",
      "606841\n",
      "608400\n",
      "609961\n",
      "611524\n",
      "613089\n",
      "614656\n",
      "616225\n",
      "617796\n",
      "619369\n",
      "620944\n",
      "622521\n",
      "624100\n",
      "625681\n",
      "627264\n",
      "628849\n",
      "630436\n",
      "632025\n",
      "633616\n",
      "635209\n",
      "636804\n",
      "638401\n",
      "640000\n",
      "641601\n",
      "643204\n",
      "644809\n",
      "646416\n",
      "648025\n",
      "649636\n",
      "651249\n",
      "652864\n",
      "654481\n",
      "656100\n",
      "657721\n",
      "659344\n",
      "660969\n",
      "662596\n",
      "664225\n",
      "665856\n",
      "667489\n",
      "669124\n",
      "670761\n",
      "672400\n",
      "674041\n",
      "675684\n",
      "677329\n",
      "678976\n",
      "680625\n",
      "682276\n",
      "683929\n",
      "685584\n",
      "687241\n",
      "688900\n",
      "690561\n",
      "692224\n",
      "693889\n",
      "695556\n",
      "697225\n",
      "698896\n",
      "700569\n",
      "702244\n",
      "703921\n",
      "705600\n",
      "707281\n",
      "708964\n",
      "710649\n",
      "712336\n",
      "714025\n",
      "715716\n",
      "717409\n",
      "719104\n",
      "720801\n",
      "722500\n",
      "724201\n",
      "725904\n",
      "727609\n",
      "729316\n",
      "731025\n",
      "732736\n",
      "734449\n",
      "736164\n",
      "737881\n",
      "739600\n",
      "741321\n",
      "743044\n",
      "744769\n",
      "746496\n",
      "748225\n",
      "749956\n",
      "751689\n",
      "753424\n",
      "755161\n",
      "756900\n",
      "758641\n",
      "760384\n",
      "762129\n",
      "763876\n",
      "765625\n",
      "767376\n",
      "769129\n",
      "770884\n",
      "772641\n",
      "774400\n",
      "776161\n",
      "777924\n",
      "779689\n",
      "781456\n",
      "783225\n",
      "784996\n",
      "786769\n",
      "788544\n",
      "790321\n",
      "792100\n",
      "793881\n",
      "795664\n",
      "797449\n",
      "799236\n",
      "801025\n",
      "802816\n",
      "804609\n",
      "806404\n",
      "808201\n",
      "810000\n",
      "811801\n",
      "813604\n",
      "815409\n",
      "817216\n",
      "819025\n",
      "820836\n",
      "822649\n",
      "824464\n",
      "826281\n",
      "828100\n",
      "829921\n",
      "831744\n",
      "833569\n",
      "835396\n",
      "837225\n",
      "839056\n",
      "840889\n",
      "842724\n",
      "844561\n",
      "846400\n",
      "848241\n",
      "850084\n",
      "851929\n",
      "853776\n",
      "855625\n",
      "857476\n",
      "859329\n",
      "861184\n",
      "863041\n",
      "864900\n",
      "866761\n",
      "868624\n",
      "870489\n",
      "872356\n",
      "874225\n",
      "876096\n",
      "877969\n",
      "879844\n",
      "881721\n",
      "883600\n",
      "885481\n",
      "887364\n",
      "889249\n",
      "891136\n",
      "893025\n",
      "894916\n",
      "896809\n",
      "898704\n",
      "900601\n",
      "902500\n",
      "904401\n",
      "906304\n",
      "908209\n",
      "910116\n",
      "912025\n",
      "913936\n",
      "915849\n",
      "917764\n",
      "919681\n",
      "921600\n",
      "923521\n",
      "925444\n",
      "927369\n",
      "929296\n",
      "931225\n",
      "933156\n",
      "935089\n",
      "937024\n",
      "938961\n",
      "940900\n",
      "942841\n",
      "944784\n",
      "946729\n",
      "948676\n",
      "950625\n",
      "952576\n",
      "954529\n",
      "956484\n",
      "958441\n",
      "960400\n",
      "962361\n",
      "964324\n",
      "966289\n",
      "968256\n",
      "970225\n",
      "972196\n",
      "974169\n",
      "976144\n",
      "978121\n",
      "980100\n",
      "982081\n",
      "984064\n",
      "986049\n",
      "988036\n",
      "990025\n",
      "992016\n",
      "994009\n",
      "996004\n",
      "998001\n"
     ]
    }
   ],
   "source": [
    "mylist = range(1000)\n",
    "for i in mylist:\n",
    "    i = i**2\n",
    "    print(i)"
   ]
  },
  {
   "cell_type": "code",
   "execution_count": 14,
   "metadata": {
    "run_control": {
     "frozen": false,
     "read_only": false
    },
    "slideshow": {
     "slide_type": "fragment"
    }
   },
   "outputs": [],
   "source": [
    "import numpy as np"
   ]
  },
  {
   "cell_type": "code",
   "execution_count": 24,
   "metadata": {
    "run_control": {
     "frozen": false,
     "read_only": false
    },
    "slideshow": {
     "slide_type": "fragment"
    }
   },
   "outputs": [
    {
     "name": "stdout",
     "output_type": "stream",
     "text": [
      "31.5 µs ± 9.98 µs per loop (mean ± std. dev. of 7 runs, 10000 loops each)\n"
     ]
    }
   ],
   "source": [
    "%%timeit\n",
    "\n",
    "np.arange(1000)**2"
   ]
  },
  {
   "cell_type": "code",
   "execution_count": 25,
   "metadata": {},
   "outputs": [],
   "source": [
    "var = np.arange(1000)**2"
   ]
  },
  {
   "cell_type": "code",
   "execution_count": 31,
   "metadata": {},
   "outputs": [
    {
     "data": {
      "text/plain": [
       "array([     0,      1,      4,      9,     16,     25,     36,     49,\n",
       "           64,     81,    100,    121,    144,    169,    196,    225,\n",
       "          256,    289,    324,    361,    400,    441,    484,    529,\n",
       "          576,    625,    676,    729,    784,    841,    900,    961,\n",
       "         1024,   1089,   1156,   1225,   1296,   1369,   1444,   1521,\n",
       "         1600,   1681,   1764,   1849,   1936,   2025,   2116,   2209,\n",
       "         2304,   2401,   2500,   2601,   2704,   2809,   2916,   3025,\n",
       "         3136,   3249,   3364,   3481,   3600,   3721,   3844,   3969,\n",
       "         4096,   4225,   4356,   4489,   4624,   4761,   4900,   5041,\n",
       "         5184,   5329,   5476,   5625,   5776,   5929,   6084,   6241,\n",
       "         6400,   6561,   6724,   6889,   7056,   7225,   7396,   7569,\n",
       "         7744,   7921,   8100,   8281,   8464,   8649,   8836,   9025,\n",
       "         9216,   9409,   9604,   9801,  10000,  10201,  10404,  10609,\n",
       "        10816,  11025,  11236,  11449,  11664,  11881,  12100,  12321,\n",
       "        12544,  12769,  12996,  13225,  13456,  13689,  13924,  14161,\n",
       "        14400,  14641,  14884,  15129,  15376,  15625,  15876,  16129,\n",
       "        16384,  16641,  16900,  17161,  17424,  17689,  17956,  18225,\n",
       "        18496,  18769,  19044,  19321,  19600,  19881,  20164,  20449,\n",
       "        20736,  21025,  21316,  21609,  21904,  22201,  22500,  22801,\n",
       "        23104,  23409,  23716,  24025,  24336,  24649,  24964,  25281,\n",
       "        25600,  25921,  26244,  26569,  26896,  27225,  27556,  27889,\n",
       "        28224,  28561,  28900,  29241,  29584,  29929,  30276,  30625,\n",
       "        30976,  31329,  31684,  32041,  32400,  32761,  33124,  33489,\n",
       "        33856,  34225,  34596,  34969,  35344,  35721,  36100,  36481,\n",
       "        36864,  37249,  37636,  38025,  38416,  38809,  39204,  39601,\n",
       "        40000,  40401,  40804,  41209,  41616,  42025,  42436,  42849,\n",
       "        43264,  43681,  44100,  44521,  44944,  45369,  45796,  46225,\n",
       "        46656,  47089,  47524,  47961,  48400,  48841,  49284,  49729,\n",
       "        50176,  50625,  51076,  51529,  51984,  52441,  52900,  53361,\n",
       "        53824,  54289,  54756,  55225,  55696,  56169,  56644,  57121,\n",
       "        57600,  58081,  58564,  59049,  59536,  60025,  60516,  61009,\n",
       "        61504,  62001,  62500,  63001,  63504,  64009,  64516,  65025,\n",
       "        65536,  66049,  66564,  67081,  67600,  68121,  68644,  69169,\n",
       "        69696,  70225,  70756,  71289,  71824,  72361,  72900,  73441,\n",
       "        73984,  74529,  75076,  75625,  76176,  76729,  77284,  77841,\n",
       "        78400,  78961,  79524,  80089,  80656,  81225,  81796,  82369,\n",
       "        82944,  83521,  84100,  84681,  85264,  85849,  86436,  87025,\n",
       "        87616,  88209,  88804,  89401,  90000,  90601,  91204,  91809,\n",
       "        92416,  93025,  93636,  94249,  94864,  95481,  96100,  96721,\n",
       "        97344,  97969,  98596,  99225,  99856, 100489, 101124, 101761,\n",
       "       102400, 103041, 103684, 104329, 104976, 105625, 106276, 106929,\n",
       "       107584, 108241, 108900, 109561, 110224, 110889, 111556, 112225,\n",
       "       112896, 113569, 114244, 114921, 115600, 116281, 116964, 117649,\n",
       "       118336, 119025, 119716, 120409, 121104, 121801, 122500, 123201,\n",
       "       123904, 124609, 125316, 126025, 126736, 127449, 128164, 128881,\n",
       "       129600, 130321, 131044, 131769, 132496, 133225, 133956, 134689,\n",
       "       135424, 136161, 136900, 137641, 138384, 139129, 139876, 140625,\n",
       "       141376, 142129, 142884, 143641, 144400, 145161, 145924, 146689,\n",
       "       147456, 148225, 148996, 149769, 150544, 151321, 152100, 152881,\n",
       "       153664, 154449, 155236, 156025, 156816, 157609, 158404, 159201,\n",
       "       160000, 160801, 161604, 162409, 163216, 164025, 164836, 165649,\n",
       "       166464, 167281, 168100, 168921, 169744, 170569, 171396, 172225,\n",
       "       173056, 173889, 174724, 175561, 176400, 177241, 178084, 178929,\n",
       "       179776, 180625, 181476, 182329, 183184, 184041, 184900, 185761,\n",
       "       186624, 187489, 188356, 189225, 190096, 190969, 191844, 192721,\n",
       "       193600, 194481, 195364, 196249, 197136, 198025, 198916, 199809,\n",
       "       200704, 201601, 202500, 203401, 204304, 205209, 206116, 207025,\n",
       "       207936, 208849, 209764, 210681, 211600, 212521, 213444, 214369,\n",
       "       215296, 216225, 217156, 218089, 219024, 219961, 220900, 221841,\n",
       "       222784, 223729, 224676, 225625, 226576, 227529, 228484, 229441,\n",
       "       230400, 231361, 232324, 233289, 234256, 235225, 236196, 237169,\n",
       "       238144, 239121, 240100, 241081, 242064, 243049, 244036, 245025,\n",
       "       246016, 247009, 248004, 249001, 250000, 251001, 252004, 253009,\n",
       "       254016, 255025, 256036, 257049, 258064, 259081, 260100, 261121,\n",
       "       262144, 263169, 264196, 265225, 266256, 267289, 268324, 269361,\n",
       "       270400, 271441, 272484, 273529, 274576, 275625, 276676, 277729,\n",
       "       278784, 279841, 280900, 281961, 283024, 284089, 285156, 286225,\n",
       "       287296, 288369, 289444, 290521, 291600, 292681, 293764, 294849,\n",
       "       295936, 297025, 298116, 299209, 300304, 301401, 302500, 303601,\n",
       "       304704, 305809, 306916, 308025, 309136, 310249, 311364, 312481,\n",
       "       313600, 314721, 315844, 316969, 318096, 319225, 320356, 321489,\n",
       "       322624, 323761, 324900, 326041, 327184, 328329, 329476, 330625,\n",
       "       331776, 332929, 334084, 335241, 336400, 337561, 338724, 339889,\n",
       "       341056, 342225, 343396, 344569, 345744, 346921, 348100, 349281,\n",
       "       350464, 351649, 352836, 354025, 355216, 356409, 357604, 358801,\n",
       "       360000, 361201, 362404, 363609, 364816, 366025, 367236, 368449,\n",
       "       369664, 370881, 372100, 373321, 374544, 375769, 376996, 378225,\n",
       "       379456, 380689, 381924, 383161, 384400, 385641, 386884, 388129,\n",
       "       389376, 390625, 391876, 393129, 394384, 395641, 396900, 398161,\n",
       "       399424, 400689, 401956, 403225, 404496, 405769, 407044, 408321,\n",
       "       409600, 410881, 412164, 413449, 414736, 416025, 417316, 418609,\n",
       "       419904, 421201, 422500, 423801, 425104, 426409, 427716, 429025,\n",
       "       430336, 431649, 432964, 434281, 435600, 436921, 438244, 439569,\n",
       "       440896, 442225, 443556, 444889, 446224, 447561, 448900, 450241,\n",
       "       451584, 452929, 454276, 455625, 456976, 458329, 459684, 461041,\n",
       "       462400, 463761, 465124, 466489, 467856, 469225, 470596, 471969,\n",
       "       473344, 474721, 476100, 477481, 478864, 480249, 481636, 483025,\n",
       "       484416, 485809, 487204, 488601, 490000, 491401, 492804, 494209,\n",
       "       495616, 497025, 498436, 499849, 501264, 502681, 504100, 505521,\n",
       "       506944, 508369, 509796, 511225, 512656, 514089, 515524, 516961,\n",
       "       518400, 519841, 521284, 522729, 524176, 525625, 527076, 528529,\n",
       "       529984, 531441, 532900, 534361, 535824, 537289, 538756, 540225,\n",
       "       541696, 543169, 544644, 546121, 547600, 549081, 550564, 552049,\n",
       "       553536, 555025, 556516, 558009, 559504, 561001, 562500, 564001,\n",
       "       565504, 567009, 568516, 570025, 571536, 573049, 574564, 576081,\n",
       "       577600, 579121, 580644, 582169, 583696, 585225, 586756, 588289,\n",
       "       589824, 591361, 592900, 594441, 595984, 597529, 599076, 600625,\n",
       "       602176, 603729, 605284, 606841, 608400, 609961, 611524, 613089,\n",
       "       614656, 616225, 617796, 619369, 620944, 622521, 624100, 625681,\n",
       "       627264, 628849, 630436, 632025, 633616, 635209, 636804, 638401,\n",
       "       640000, 641601, 643204, 644809, 646416, 648025, 649636, 651249,\n",
       "       652864, 654481, 656100, 657721, 659344, 660969, 662596, 664225,\n",
       "       665856, 667489, 669124, 670761, 672400, 674041, 675684, 677329,\n",
       "       678976, 680625, 682276, 683929, 685584, 687241, 688900, 690561,\n",
       "       692224, 693889, 695556, 697225, 698896, 700569, 702244, 703921,\n",
       "       705600, 707281, 708964, 710649, 712336, 714025, 715716, 717409,\n",
       "       719104, 720801, 722500, 724201, 725904, 727609, 729316, 731025,\n",
       "       732736, 734449, 736164, 737881, 739600, 741321, 743044, 744769,\n",
       "       746496, 748225, 749956, 751689, 753424, 755161, 756900, 758641,\n",
       "       760384, 762129, 763876, 765625, 767376, 769129, 770884, 772641,\n",
       "       774400, 776161, 777924, 779689, 781456, 783225, 784996, 786769,\n",
       "       788544, 790321, 792100, 793881, 795664, 797449, 799236, 801025,\n",
       "       802816, 804609, 806404, 808201, 810000, 811801, 813604, 815409,\n",
       "       817216, 819025, 820836, 822649, 824464, 826281, 828100, 829921,\n",
       "       831744, 833569, 835396, 837225, 839056, 840889, 842724, 844561,\n",
       "       846400, 848241, 850084, 851929, 853776, 855625, 857476, 859329,\n",
       "       861184, 863041, 864900, 866761, 868624, 870489, 872356, 874225,\n",
       "       876096, 877969, 879844, 881721, 883600, 885481, 887364, 889249,\n",
       "       891136, 893025, 894916, 896809, 898704, 900601, 902500, 904401,\n",
       "       906304, 908209, 910116, 912025, 913936, 915849, 917764, 919681,\n",
       "       921600, 923521, 925444, 927369, 929296, 931225, 933156, 935089,\n",
       "       937024, 938961, 940900, 942841, 944784, 946729, 948676, 950625,\n",
       "       952576, 954529, 956484, 958441, 960400, 962361, 964324, 966289,\n",
       "       968256, 970225, 972196, 974169, 976144, 978121, 980100, 982081,\n",
       "       984064, 986049, 988036, 990025, 992016, 994009, 996004, 998001],\n",
       "      dtype=int32)"
      ]
     },
     "execution_count": 31,
     "metadata": {},
     "output_type": "execute_result"
    }
   ],
   "source": [
    "var "
   ]
  },
  {
   "cell_type": "code",
   "execution_count": 26,
   "metadata": {},
   "outputs": [
    {
     "data": {
      "text/plain": [
       "1000"
      ]
     },
     "execution_count": 26,
     "metadata": {},
     "output_type": "execute_result"
    }
   ],
   "source": [
    "len(var)"
   ]
  },
  {
   "cell_type": "markdown",
   "metadata": {
    "slideshow": {
     "slide_type": "subslide"
    }
   },
   "source": [
    "## `%lsmagic`"
   ]
  },
  {
   "cell_type": "code",
   "execution_count": 14,
   "metadata": {
    "run_control": {
     "frozen": false,
     "read_only": false
    },
    "slideshow": {
     "slide_type": "fragment"
    }
   },
   "outputs": [
    {
     "data": {
      "application/json": {
       "cell": {
        "!": "OSMagics",
        "HTML": "Other",
        "SVG": "Other",
        "bash": "Other",
        "capture": "ExecutionMagics",
        "cmd": "Other",
        "debug": "ExecutionMagics",
        "file": "Other",
        "html": "DisplayMagics",
        "javascript": "DisplayMagics",
        "js": "DisplayMagics",
        "latex": "DisplayMagics",
        "markdown": "DisplayMagics",
        "perl": "Other",
        "prun": "ExecutionMagics",
        "pypy": "Other",
        "python": "Other",
        "python2": "Other",
        "python3": "Other",
        "ruby": "Other",
        "script": "ScriptMagics",
        "sh": "Other",
        "svg": "DisplayMagics",
        "sx": "OSMagics",
        "system": "OSMagics",
        "time": "ExecutionMagics",
        "timeit": "ExecutionMagics",
        "writefile": "OSMagics"
       },
       "line": {
        "alias": "OSMagics",
        "alias_magic": "BasicMagics",
        "autoawait": "AsyncMagics",
        "autocall": "AutoMagics",
        "automagic": "AutoMagics",
        "autosave": "KernelMagics",
        "bookmark": "OSMagics",
        "cd": "OSMagics",
        "clear": "KernelMagics",
        "cls": "KernelMagics",
        "colors": "BasicMagics",
        "conda": "PackagingMagics",
        "config": "ConfigMagics",
        "connect_info": "KernelMagics",
        "copy": "Other",
        "ddir": "Other",
        "debug": "ExecutionMagics",
        "dhist": "OSMagics",
        "dirs": "OSMagics",
        "doctest_mode": "BasicMagics",
        "echo": "Other",
        "ed": "Other",
        "edit": "KernelMagics",
        "env": "OSMagics",
        "gui": "BasicMagics",
        "hist": "Other",
        "history": "HistoryMagics",
        "killbgscripts": "ScriptMagics",
        "ldir": "Other",
        "less": "KernelMagics",
        "load": "CodeMagics",
        "load_ext": "ExtensionMagics",
        "loadpy": "CodeMagics",
        "logoff": "LoggingMagics",
        "logon": "LoggingMagics",
        "logstart": "LoggingMagics",
        "logstate": "LoggingMagics",
        "logstop": "LoggingMagics",
        "ls": "Other",
        "lsmagic": "BasicMagics",
        "macro": "ExecutionMagics",
        "magic": "BasicMagics",
        "matplotlib": "PylabMagics",
        "mkdir": "Other",
        "more": "KernelMagics",
        "notebook": "BasicMagics",
        "page": "BasicMagics",
        "pastebin": "CodeMagics",
        "pdb": "ExecutionMagics",
        "pdef": "NamespaceMagics",
        "pdoc": "NamespaceMagics",
        "pfile": "NamespaceMagics",
        "pinfo": "NamespaceMagics",
        "pinfo2": "NamespaceMagics",
        "pip": "PackagingMagics",
        "popd": "OSMagics",
        "pprint": "BasicMagics",
        "precision": "BasicMagics",
        "prun": "ExecutionMagics",
        "psearch": "NamespaceMagics",
        "psource": "NamespaceMagics",
        "pushd": "OSMagics",
        "pwd": "OSMagics",
        "pycat": "OSMagics",
        "pylab": "PylabMagics",
        "qtconsole": "KernelMagics",
        "quickref": "BasicMagics",
        "recall": "HistoryMagics",
        "rehashx": "OSMagics",
        "reload_ext": "ExtensionMagics",
        "ren": "Other",
        "rep": "Other",
        "rerun": "HistoryMagics",
        "reset": "NamespaceMagics",
        "reset_selective": "NamespaceMagics",
        "rmdir": "Other",
        "run": "ExecutionMagics",
        "save": "CodeMagics",
        "sc": "OSMagics",
        "set_env": "OSMagics",
        "store": "StoreMagics",
        "sx": "OSMagics",
        "system": "OSMagics",
        "tb": "ExecutionMagics",
        "time": "ExecutionMagics",
        "timeit": "ExecutionMagics",
        "unalias": "OSMagics",
        "unload_ext": "ExtensionMagics",
        "who": "NamespaceMagics",
        "who_ls": "NamespaceMagics",
        "whos": "NamespaceMagics",
        "xdel": "NamespaceMagics",
        "xmode": "BasicMagics"
       }
      },
      "text/plain": [
       "Available line magics:\n",
       "%alias  %alias_magic  %autoawait  %autocall  %automagic  %autosave  %bookmark  %cd  %clear  %cls  %colors  %conda  %config  %connect_info  %copy  %ddir  %debug  %dhist  %dirs  %doctest_mode  %echo  %ed  %edit  %env  %gui  %hist  %history  %killbgscripts  %ldir  %less  %load  %load_ext  %loadpy  %logoff  %logon  %logstart  %logstate  %logstop  %ls  %lsmagic  %macro  %magic  %matplotlib  %mkdir  %more  %notebook  %page  %pastebin  %pdb  %pdef  %pdoc  %pfile  %pinfo  %pinfo2  %pip  %popd  %pprint  %precision  %prun  %psearch  %psource  %pushd  %pwd  %pycat  %pylab  %qtconsole  %quickref  %recall  %rehashx  %reload_ext  %ren  %rep  %rerun  %reset  %reset_selective  %rmdir  %run  %save  %sc  %set_env  %store  %sx  %system  %tb  %time  %timeit  %unalias  %unload_ext  %who  %who_ls  %whos  %xdel  %xmode\n",
       "\n",
       "Available cell magics:\n",
       "%%!  %%HTML  %%SVG  %%bash  %%capture  %%cmd  %%debug  %%file  %%html  %%javascript  %%js  %%latex  %%markdown  %%perl  %%prun  %%pypy  %%python  %%python2  %%python3  %%ruby  %%script  %%sh  %%svg  %%sx  %%system  %%time  %%timeit  %%writefile\n",
       "\n",
       "Automagic is ON, % prefix IS NOT needed for line magics."
      ]
     },
     "execution_count": 14,
     "metadata": {},
     "output_type": "execute_result"
    }
   ],
   "source": [
    "%lsmagic"
   ]
  },
  {
   "cell_type": "markdown",
   "metadata": {},
   "source": [
    "## `%whos`"
   ]
  },
  {
   "cell_type": "code",
   "execution_count": 15,
   "metadata": {},
   "outputs": [
    {
     "name": "stdout",
     "output_type": "stream",
     "text": [
      "Variable                     Type      Data/Info\n",
      "------------------------------------------------\n",
      "DS                           int       10\n",
      "Image                        type      <class 'IPython.core.display.Image'>\n",
      "glob                         module    <module 'glob' from 'C:\\\\<...>anaconda3\\\\lib\\\\glob.py'>\n",
      "my_very_long_variable_name   int       3\n",
      "np                           module    <module 'numpy' from 'C:\\<...>ges\\\\numpy\\\\__init__.py'>\n",
      "os                           module    <module 'os' from 'C:\\\\Us<...>\\\\anaconda3\\\\lib\\\\os.py'>\n"
     ]
    }
   ],
   "source": [
    "%whos"
   ]
  },
  {
   "cell_type": "markdown",
   "metadata": {
    "slideshow": {
     "slide_type": "slide"
    }
   },
   "source": [
    "# Let's get started!"
   ]
  },
  {
   "cell_type": "code",
   "execution_count": 16,
   "metadata": {
    "run_control": {
     "frozen": false,
     "read_only": false
    },
    "slideshow": {
     "slide_type": "fragment"
    }
   },
   "outputs": [],
   "source": [
    "from IPython.display import FileLink, FileLinks"
   ]
  },
  {
   "cell_type": "code",
   "execution_count": 17,
   "metadata": {
    "run_control": {
     "frozen": false,
     "read_only": false
    },
    "slideshow": {
     "slide_type": "fragment"
    }
   },
   "outputs": [
    {
     "data": {
      "text/html": [
       "./<br>\n",
       "&nbsp;&nbsp;<a href='./00-jupyter_introduction.ipynb' target='_blank'>00-jupyter_introduction.ipynb</a><br>\n",
       "&nbsp;&nbsp;<a href='./01-basic.ipynb' target='_blank'>01-basic.ipynb</a><br>\n",
       "&nbsp;&nbsp;<a href='./02-control_flow.ipynb' target='_blank'>02-control_flow.ipynb</a><br>\n",
       "&nbsp;&nbsp;<a href='./03-functions.ipynb' target='_blank'>03-functions.ipynb</a><br>\n",
       "&nbsp;&nbsp;<a href='./04-reusing_code.ipynb' target='_blank'>04-reusing_code.ipynb</a><br>\n",
       "&nbsp;&nbsp;<a href='./05-numpy.ipynb' target='_blank'>05-numpy.ipynb</a><br>\n",
       "&nbsp;&nbsp;<a href='./python_rehearsal.ipynb' target='_blank'>python_rehearsal.ipynb</a><br>"
      ],
      "text/plain": [
       "./\n",
       "  00-jupyter_introduction.ipynb\n",
       "  01-basic.ipynb\n",
       "  02-control_flow.ipynb\n",
       "  03-functions.ipynb\n",
       "  04-reusing_code.ipynb\n",
       "  05-numpy.ipynb\n",
       "  python_rehearsal.ipynb"
      ]
     },
     "execution_count": 17,
     "metadata": {},
     "output_type": "execute_result"
    }
   ],
   "source": [
    "FileLinks('.', recursive=False)"
   ]
  },
  {
   "cell_type": "markdown",
   "metadata": {
    "slideshow": {
     "slide_type": "fragment"
    }
   },
   "source": [
    "The follow-up notebooks provide additional background (largely adopted from the [scientific python notes](http://www.scipy-lectures.org/), which you can explore on your own to get more background on the Python syntax if specific elements would not be clear. \n",
    "\n",
    "For now, we will work on the `python_rehearsal.ipynb` notebook, which is a short summary version of the other notebooks to quickly grasp the main elements"
   ]
  }
 ],
 "metadata": {
  "kernelspec": {
   "display_name": "Python 3",
   "language": "python",
   "name": "python3"
  },
  "language_info": {
   "codemirror_mode": {
    "name": "ipython",
    "version": 3
   },
   "file_extension": ".py",
   "mimetype": "text/x-python",
   "name": "python",
   "nbconvert_exporter": "python",
   "pygments_lexer": "ipython3",
   "version": "3.8.8"
  },
  "nav_menu": {},
  "toc": {
   "navigate_menu": true,
   "number_sections": true,
   "sideBar": true,
   "threshold": 6,
   "toc_cell": false,
   "toc_section_display": "block",
   "toc_window_display": true
  },
  "toc_position": {
   "height": "860px",
   "left": "0px",
   "right": "1568px",
   "top": "106px",
   "width": "301px"
  }
 },
 "nbformat": 4,
 "nbformat_minor": 1
}
