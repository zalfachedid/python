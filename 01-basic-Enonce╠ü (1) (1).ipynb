{
 "cells": [
  {
   "cell_type": "markdown",
   "metadata": {
    "id": "k2vEaLJ8d4fk"
   },
   "source": [
    "# Python the basics: datatypes\n",
    "\n",
    "> *DS Data manipulation, analysis and visualisation in Python*  \n",
    "> *September, 2020*\n",
    "\n"
   ]
  },
  {
   "cell_type": "markdown",
   "metadata": {
    "id": "KbZipJ2od4f5"
   },
   "source": [
    "## Importing packages"
   ]
  },
  {
   "cell_type": "markdown",
   "metadata": {
    "id": "GhYJeHPfd4f7"
   },
   "source": [
    "Importing packages is always the first thing you do in python, since it offers the functionalities to work with.\n",
    "\n",
    "Different options are available:\n",
    "\n",
    "* <span style=\"color:green\">import <i>package-name</i></span>  <p> importing all functionalities as such\n",
    "* <span style=\"color:green\">from <i>package-name</i> import <i>specific function</i></span>  <p> importing a specific function or subset of the package\n",
    "* <span style=\"color:green\">from <i>package-name</i> import *  </span>   <p> importing all definitions and actions of the package (sometimes better than option 1)\n",
    "* <span style=\"color:green\">import <i>package-name</i> as <i>short-package-name</i></span>    <p> Very good way to keep a good insight in where you use what package"
   ]
  },
  {
   "cell_type": "markdown",
   "metadata": {
    "id": "71OnCiNbd4f8"
   },
   "source": [
    "import all functionalities as such"
   ]
  },
  {
   "cell_type": "code",
   "execution_count": null,
   "metadata": {
    "id": "CYOhYX8Xd4f9",
    "run_control": {
     "frozen": false,
     "read_only": false
    }
   },
   "outputs": [],
   "source": [
    "# Two general packages\n",
    "import os\n",
    "import sys"
   ]
  },
  {
   "cell_type": "markdown",
   "metadata": {
    "id": "ngHmf6obd4f-"
   },
   "source": [
    "## Basic python datatypes"
   ]
  },
  {
   "cell_type": "markdown",
   "metadata": {
    "id": "17wWvKAld4f_"
   },
   "source": [
    "### Numerical types"
   ]
  },
  {
   "cell_type": "markdown",
   "metadata": {
    "id": "3RaMXtVCd4gC"
   },
   "source": [
    "Python supports the following numerical, scalar types:\n",
    "* integer\n",
    "* floats\n",
    "* complex\n",
    "* boolean"
   ]
  },
  {
   "cell_type": "code",
   "execution_count": null,
   "metadata": {
    "id": "r39v2wt9d4gE",
    "outputId": "1b4f83b7-5bbb-4431-94c8-1c5b970136ee",
    "run_control": {
     "frozen": false,
     "read_only": false
    }
   },
   "outputs": [
    {
     "name": "stdout",
     "output_type": "stream",
     "text": [
      "<class 'int'>\n"
     ]
    }
   ],
   "source": [
    "an_integer = 3\n",
    "print(type(an_integer))"
   ]
  },
  {
   "cell_type": "code",
   "execution_count": null,
   "metadata": {
    "id": "9xQZ71VTd4gH",
    "outputId": "64af4317-0ddf-4129-e5d9-7ca5399e51ae",
    "run_control": {
     "frozen": false,
     "read_only": false
    }
   },
   "outputs": [
    {
     "data": {
      "text/plain": [
       "3"
      ]
     },
     "execution_count": 3,
     "metadata": {
      "tags": []
     },
     "output_type": "execute_result"
    }
   ],
   "source": [
    "an_integer"
   ]
  },
  {
   "cell_type": "code",
   "execution_count": null,
   "metadata": {
    "id": "1LuSHImQd4gI",
    "outputId": "d01e632f-4dd7-4c43-fd0a-23cd98964600",
    "run_control": {
     "frozen": false,
     "read_only": false
    }
   },
   "outputs": [
    {
     "data": {
      "text/plain": [
       "3.0"
      ]
     },
     "execution_count": 4,
     "metadata": {
      "tags": []
     },
     "output_type": "execute_result"
    }
   ],
   "source": [
    "# type casting: converting the integer to a float type\n",
    "float(an_integer)"
   ]
  },
  {
   "cell_type": "code",
   "execution_count": null,
   "metadata": {
    "id": "isPMUl5Ld4gK",
    "outputId": "58ed2548-3954-41da-ff51-4736088b7264",
    "run_control": {
     "frozen": false,
     "read_only": false
    }
   },
   "outputs": [
    {
     "data": {
      "text/plain": [
       "float"
      ]
     },
     "execution_count": 5,
     "metadata": {
      "tags": []
     },
     "output_type": "execute_result"
    }
   ],
   "source": [
    "a_float = 0.2\n",
    "type(a_float)"
   ]
  },
  {
   "cell_type": "code",
   "execution_count": null,
   "metadata": {
    "id": "Zf29SMFbd4gL",
    "outputId": "cf35d07e-f3fc-4650-943e-9f9b6e3e9a0a",
    "run_control": {
     "frozen": false,
     "read_only": false
    }
   },
   "outputs": [
    {
     "name": "stdout",
     "output_type": "stream",
     "text": [
      "<class 'complex'> 1.5 0.5\n"
     ]
    }
   ],
   "source": [
    "a_complex = 1.5 + 0.5j\n",
    "# get the real or imaginary part of the complex number by using the functions\n",
    "# real and imag on the variable\n",
    "print(type(a_complex), a_complex.real, a_complex.imag)"
   ]
  },
  {
   "cell_type": "code",
   "execution_count": null,
   "metadata": {
    "id": "0mB607qJd4gM",
    "outputId": "c053ac7b-188c-42d9-c257-5d2fbbec63d2",
    "run_control": {
     "frozen": false,
     "read_only": false
    }
   },
   "outputs": [
    {
     "data": {
      "text/plain": [
       "False"
      ]
     },
     "execution_count": 7,
     "metadata": {
      "tags": []
     },
     "output_type": "execute_result"
    }
   ],
   "source": [
    "a_boolean = (3 > 4)\n",
    "a_boolean"
   ]
  },
  {
   "cell_type": "markdown",
   "metadata": {
    "id": "LhQa3zkFd4gN"
   },
   "source": [
    "A Python shell can therefore replace your pocket calculator, with the basic arithmetic operations addition, substraction, division ... are natively implemented\n",
    "+, -, *, /, % (modulo) natively implemented\n",
    "\n",
    " *operation*| *python implementation* \n",
    "----------:| --------------------- \n",
    " addition  | `+`\n",
    " substraction | `-`\n",
    " multiplication | `*`\n",
    " division | `/`\n",
    " modulo | `%`\n",
    " exponentiation | `**`"
   ]
  },
  {
   "cell_type": "code",
   "execution_count": null,
   "metadata": {
    "id": "kpuFNCq-d4gO",
    "outputId": "30c2d205-6467-483d-df16-d6b11803c09c",
    "run_control": {
     "frozen": false,
     "read_only": false
    }
   },
   "outputs": [
    {
     "name": "stdout",
     "output_type": "stream",
     "text": [
      "21.0\n",
      "1024\n",
      "2\n"
     ]
    }
   ],
   "source": [
    "print (7 * 3.)\n",
    "print (2**10)\n",
    "print (8 % 3)"
   ]
  },
  {
   "cell_type": "markdown",
   "metadata": {
    "id": "f2LH03vjd4gP"
   },
   "source": [
    "**Attention !**"
   ]
  },
  {
   "cell_type": "code",
   "execution_count": null,
   "metadata": {
    "id": "Ay68GGbId4gQ",
    "outputId": "022881b0-a96d-45bc-b547-10e822e86c42",
    "run_control": {
     "frozen": false,
     "read_only": false
    }
   },
   "outputs": [
    {
     "name": "stdout",
     "output_type": "stream",
     "text": [
      "1.5\n",
      "1.5\n",
      "1.0\n"
     ]
    }
   ],
   "source": [
    "print(3/2)\n",
    "print(3/2.)\n",
    "print(3.//2.)  #integer division"
   ]
  },
  {
   "cell_type": "markdown",
   "metadata": {
    "id": "4HndBnGNd4gQ"
   },
   "source": [
    "### Containers"
   ]
  },
  {
   "cell_type": "markdown",
   "metadata": {
    "id": "IkT3HrLSd4gZ"
   },
   "source": [
    "#### Lists"
   ]
  },
  {
   "cell_type": "markdown",
   "metadata": {
    "id": "n_mODPZwd4gZ"
   },
   "source": [
    "A list is an ordered collection of objects, that may have different types. The list container supports slicing, appending, sorting ...\n",
    "\n",
    "Indexing starts at 0 (as in C, C++ or Java), not at 1 (as in Fortran or Matlab)!\n"
   ]
  },
  {
   "cell_type": "code",
   "execution_count": null,
   "metadata": {
    "id": "M15G9Sy_d4go",
    "outputId": "26eaad8a-3de7-46ea-b52d-376ae067b2b0",
    "run_control": {
     "frozen": false,
     "read_only": false
    }
   },
   "outputs": [
    {
     "data": {
      "text/plain": [
       "[2.0, 'aa', 0.2]"
      ]
     },
     "execution_count": 10,
     "metadata": {
      "tags": []
     },
     "output_type": "execute_result"
    }
   ],
   "source": [
    "a_list = [2.,'aa', 0.2]\n",
    "a_list"
   ]
  },
  {
   "cell_type": "code",
   "execution_count": null,
   "metadata": {
    "id": "XuxdFXM5d4gq",
    "outputId": "c7a0428c-4254-4315-8cee-83093907c14d",
    "run_control": {
     "frozen": false,
     "read_only": false
    }
   },
   "outputs": [
    {
     "data": {
      "text/plain": [
       "'aa'"
      ]
     },
     "execution_count": 11,
     "metadata": {
      "tags": []
     },
     "output_type": "execute_result"
    }
   ],
   "source": [
    "# accessing individual object in the list\n",
    "a_list[1]"
   ]
  },
  {
   "cell_type": "code",
   "execution_count": null,
   "metadata": {
    "id": "sB8tnHXBd4gs",
    "outputId": "a9596e79-c3e9-45d8-80ed-551ba4e128c3",
    "run_control": {
     "frozen": false,
     "read_only": false
    }
   },
   "outputs": [
    {
     "data": {
      "text/plain": [
       "0.2"
      ]
     },
     "execution_count": 12,
     "metadata": {
      "tags": []
     },
     "output_type": "execute_result"
    }
   ],
   "source": [
    "# negative indices are used to count from the back\n",
    "a_list[-1]"
   ]
  },
  {
   "cell_type": "markdown",
   "metadata": {
    "id": "4Rpy8pMpd4gs"
   },
   "source": [
    "**Slicing**: obtaining sublists of regularly-spaced elements"
   ]
  },
  {
   "cell_type": "code",
   "execution_count": null,
   "metadata": {
    "id": "pCy0KFAqd4gt",
    "outputId": "af00cd39-5fc6-4aa8-c4fc-ecf535a91d66",
    "run_control": {
     "frozen": false,
     "read_only": false
    }
   },
   "outputs": [
    {
     "name": "stdout",
     "output_type": "stream",
     "text": [
      "['fourth', 'fifth']\n",
      "['first', 'second']\n",
      "['first', 'third', 'fifth']\n"
     ]
    }
   ],
   "source": [
    "another_list = ['first', 'second', 'third', 'fourth', 'fifth']\n",
    "print(another_list[3:])\n",
    "print(another_list[:2])\n",
    "print(another_list[::2])"
   ]
  },
  {
   "cell_type": "markdown",
   "metadata": {
    "id": "_ObDikzEd4gu"
   },
   "source": [
    "* Note that L[start:stop] contains the elements with indices i such as start<= i < stop \n",
    "* (i ranging from start to stop-1). Therefore, L[start:stop] has (stop-start) elements.\n",
    "* Slicing syntax: L[start:stop:stride]\n",
    "* all slicing parameters are optional"
   ]
  },
  {
   "cell_type": "markdown",
   "metadata": {
    "id": "Z9bg7fIOd4gv"
   },
   "source": [
    "Lists are *mutable* objects and can be modified"
   ]
  },
  {
   "cell_type": "code",
   "execution_count": null,
   "metadata": {
    "id": "OV1V-nZDd4hf",
    "outputId": "87f2fe06-a08f-4a16-a09c-eb2927373fd3",
    "run_control": {
     "frozen": false,
     "read_only": false
    }
   },
   "outputs": [
    {
     "name": "stdout",
     "output_type": "stream",
     "text": [
      "['first', 'second', 'third', 'newFourth', 'fifth']\n",
      "['first', 'newSecond', 'newThird', 'newFourth', 'fifth']\n"
     ]
    }
   ],
   "source": [
    "another_list[3] = 'newFourth'\n",
    "print(another_list)\n",
    "another_list[1:3] = ['newSecond', 'newThird']\n",
    "print(another_list)"
   ]
  },
  {
   "cell_type": "markdown",
   "metadata": {
    "id": "tbws0bmld4hi"
   },
   "source": [
    "Warning, with views equal to each other, they point to the same point in memory. Changing one of them is also changing the other!!"
   ]
  },
  {
   "cell_type": "code",
   "execution_count": null,
   "metadata": {
    "id": "aj9L-jmvd4hx",
    "outputId": "87a95ae6-c229-47f4-d122-84b5057d39c2",
    "run_control": {
     "frozen": false,
     "read_only": false
    }
   },
   "outputs": [
    {
     "name": "stdout",
     "output_type": "stream",
     "text": [
      "[1, 'b']\n"
     ]
    }
   ],
   "source": [
    "a = ['a',  'b']\n",
    "b = a\n",
    "b[0] = 1\n",
    "print(a)"
   ]
  },
  {
   "cell_type": "markdown",
   "metadata": {
    "id": "F0zO-ncyd4h3"
   },
   "source": [
    "**List methods**:"
   ]
  },
  {
   "cell_type": "markdown",
   "metadata": {
    "id": "nCvCIldxd4h7"
   },
   "source": [
    "You can always list the available methods in the namespace by using the dir()-command:"
   ]
  },
  {
   "cell_type": "code",
   "execution_count": null,
   "metadata": {
    "id": "mg1wHmIPd4h7",
    "run_control": {
     "frozen": false,
     "read_only": false
    }
   },
   "outputs": [],
   "source": [
    "#dir(list)"
   ]
  },
  {
   "cell_type": "code",
   "execution_count": null,
   "metadata": {
    "id": "iyeD6c4fd4h8",
    "run_control": {
     "frozen": false,
     "read_only": false
    }
   },
   "outputs": [],
   "source": [
    "a_third_list = ['red', 'blue', 'green', 'black', 'white']"
   ]
  },
  {
   "cell_type": "code",
   "execution_count": null,
   "metadata": {
    "id": "Ks0XOWd2d4h9",
    "outputId": "0a5a5923-b7cf-4f9c-a424-4e28688092f5",
    "run_control": {
     "frozen": false,
     "read_only": false
    }
   },
   "outputs": [
    {
     "data": {
      "text/plain": [
       "['red', 'blue', 'green', 'black', 'white', 'pink']"
      ]
     },
     "execution_count": 18,
     "metadata": {
      "tags": []
     },
     "output_type": "execute_result"
    }
   ],
   "source": [
    "# Appending\n",
    "a_third_list.append('pink')\n",
    "a_third_list"
   ]
  },
  {
   "cell_type": "code",
   "execution_count": null,
   "metadata": {
    "id": "D8IswEWLd4h-",
    "outputId": "c021370e-e10c-4cee-80ea-0e72cd060109",
    "run_control": {
     "frozen": false,
     "read_only": false
    }
   },
   "outputs": [
    {
     "data": {
      "text/plain": [
       "['red', 'blue', 'green', 'black', 'white']"
      ]
     },
     "execution_count": 19,
     "metadata": {
      "tags": []
     },
     "output_type": "execute_result"
    }
   ],
   "source": [
    "# Removes and returns the last element\n",
    "a_third_list.pop()\n",
    "a_third_list"
   ]
  },
  {
   "cell_type": "code",
   "execution_count": null,
   "metadata": {
    "id": "E8fiZ2O9d4iA",
    "outputId": "ab6aafa2-e7e4-471a-cb4d-965da07f4007",
    "run_control": {
     "frozen": false,
     "read_only": false
    }
   },
   "outputs": [
    {
     "data": {
      "text/plain": [
       "['red', 'blue', 'green', 'black', 'white', 'pink', 'purple']"
      ]
     },
     "execution_count": 20,
     "metadata": {
      "tags": []
     },
     "output_type": "execute_result"
    }
   ],
   "source": [
    "# Extends the list in-place\n",
    "a_third_list.extend(['pink', 'purple'])\n",
    "a_third_list"
   ]
  },
  {
   "cell_type": "code",
   "execution_count": null,
   "metadata": {
    "id": "V3_7GZBpd4iB",
    "outputId": "f3f7e1ea-383d-4538-ce95-760928020b45",
    "run_control": {
     "frozen": false,
     "read_only": false
    }
   },
   "outputs": [
    {
     "data": {
      "text/plain": [
       "['purple', 'pink', 'white', 'black', 'green', 'blue', 'red']"
      ]
     },
     "execution_count": 21,
     "metadata": {
      "tags": []
     },
     "output_type": "execute_result"
    }
   ],
   "source": [
    "# Reverse the list\n",
    "a_third_list.reverse()\n",
    "a_third_list"
   ]
  },
  {
   "cell_type": "code",
   "execution_count": null,
   "metadata": {
    "id": "AT6VYGCYd4iC",
    "outputId": "0c169268-4d52-455e-ddfc-5540bc8d6b64",
    "run_control": {
     "frozen": false,
     "read_only": false
    }
   },
   "outputs": [
    {
     "data": {
      "text/plain": [
       "['purple', 'pink', 'black', 'green', 'blue', 'red']"
      ]
     },
     "execution_count": 22,
     "metadata": {
      "tags": []
     },
     "output_type": "execute_result"
    }
   ],
   "source": [
    "# Remove the first occurence of an element\n",
    "a_third_list.remove('white')\n",
    "a_third_list"
   ]
  },
  {
   "cell_type": "code",
   "execution_count": null,
   "metadata": {
    "id": "X_D3gyWkd4iD",
    "outputId": "1c5c2935-7547-41e3-ae3f-4ce9397ea78d",
    "run_control": {
     "frozen": false,
     "read_only": false
    }
   },
   "outputs": [
    {
     "data": {
      "text/plain": [
       "['black', 'blue', 'green', 'pink', 'purple', 'red']"
      ]
     },
     "execution_count": 23,
     "metadata": {
      "tags": []
     },
     "output_type": "execute_result"
    }
   ],
   "source": [
    "# Sort list\n",
    "a_third_list.sort()\n",
    "a_third_list"
   ]
  },
  {
   "cell_type": "markdown",
   "metadata": {
    "id": "B788Epxnd4iD"
   },
   "source": [
    "------------"
   ]
  },
  {
   "cell_type": "markdown",
   "metadata": {
    "id": "2pZGgDE3d4iE"
   },
   "source": [
    "<div class=\"alert alert-success\">\n",
    "    <b>EXERCISE</b>: What happens if you put two question marks behind the command?\n",
    "</div>"
   ]
  },
  {
   "cell_type": "code",
   "execution_count": null,
   "metadata": {
    "id": "Uqp3nov7d4iE"
   },
   "outputs": [],
   "source": []
  },
  {
   "cell_type": "markdown",
   "metadata": {
    "id": "sBFU6fsfd4iE"
   },
   "source": [
    "------------"
   ]
  },
  {
   "cell_type": "code",
   "execution_count": null,
   "metadata": {
    "id": "LCt0MbL-d4iF",
    "run_control": {
     "frozen": false,
     "read_only": false
    }
   },
   "outputs": [],
   "source": [
    "a_third_list = ['red', 'blue', 'green', 'black', 'white']"
   ]
  },
  {
   "cell_type": "code",
   "execution_count": null,
   "metadata": {
    "id": "otsfb6mMd4iG",
    "outputId": "4d08c7c2-3104-44c5-d9cf-6a5d40498d2a",
    "run_control": {
     "frozen": false,
     "read_only": false
    }
   },
   "outputs": [
    {
     "data": {
      "text/plain": [
       "['red', 'blue', 'green']"
      ]
     },
     "execution_count": 30,
     "metadata": {
      "tags": []
     },
     "output_type": "execute_result"
    }
   ],
   "source": [
    "# remove the last two elements\n",
    "a_third_list = a_third_list[:-2]\n",
    "a_third_list"
   ]
  },
  {
   "cell_type": "markdown",
   "metadata": {
    "id": "_wQwqhMzd4iH"
   },
   "source": [
    "<div class=\"alert alert-success\">\n",
    "    <b>EXERCISE</b>: Try to code your own  *reverse* command using the appropriate slicing command:\n",
    "</div>"
   ]
  },
  {
   "cell_type": "code",
   "execution_count": null,
   "metadata": {
    "id": "xHdFT4k-d4iH"
   },
   "outputs": [],
   "source": []
  },
  {
   "cell_type": "markdown",
   "metadata": {
    "id": "k4RDfdJkd4iI"
   },
   "source": [
    "------------"
   ]
  },
  {
   "cell_type": "markdown",
   "metadata": {
    "id": "kiL4kIUBd4iI"
   },
   "source": [
    "Concatenating lists is just the same as summing both lists:"
   ]
  },
  {
   "cell_type": "code",
   "execution_count": null,
   "metadata": {
    "id": "FGiEIcTud4iI",
    "run_control": {
     "frozen": false,
     "read_only": false
    }
   },
   "outputs": [],
   "source": [
    "a_list = ['pink', 'orange']\n",
    "a_concatenated_list = a_third_list + a_list\n",
    "a_concatenated_list"
   ]
  },
  {
   "cell_type": "markdown",
   "metadata": {
    "id": "0hH29e5_d4iJ"
   },
   "source": [
    "<div class=\"alert alert alert-danger\">\n",
    "    <b>Note</b>: Why is the following not working?\n",
    "</div>"
   ]
  },
  {
   "cell_type": "code",
   "execution_count": null,
   "metadata": {
    "id": "W1N3pzLud4iJ",
    "run_control": {
     "frozen": false,
     "read_only": false
    }
   },
   "outputs": [],
   "source": [
    "reverted = a_third_list.reverse()\n",
    "## comment out the next lines to test the error:\n",
    "#a_concatenated_list = a_third_list + reverted\n",
    "#a_concatenated_list"
   ]
  },
  {
   "cell_type": "markdown",
   "metadata": {
    "id": "W3Lfky65d4iK"
   },
   "source": [
    "The list itself is reversed and no output is returned, so reverted is None, which can not be added to a list\n",
    "\n",
    "------------"
   ]
  },
  {
   "cell_type": "code",
   "execution_count": null,
   "metadata": {
    "id": "XQS6-Bggd4iK",
    "run_control": {
     "frozen": false,
     "read_only": false
    }
   },
   "outputs": [],
   "source": [
    "# Repeating lists\n",
    "a_repeated_list = a_concatenated_list*10\n",
    "print(a_repeated_list)"
   ]
  },
  {
   "cell_type": "markdown",
   "metadata": {
    "id": "_XNI3e6Xd4iL"
   },
   "source": [
    "**List comprehensions**\n",
    "\n",
    "List comprehensions are a very powerful functionality. It creates an in-list for-loop option, looping through all the elements of a list and doing an action on it, in a single, readable line."
   ]
  },
  {
   "cell_type": "code",
   "execution_count": null,
   "metadata": {
    "id": "NH-GGqsod4iM",
    "run_control": {
     "frozen": false,
     "read_only": false
    }
   },
   "outputs": [],
   "source": [
    "number_list = [1, 2, 3, 4]\n",
    "[i**2 for i in number_list]"
   ]
  },
  {
   "cell_type": "markdown",
   "metadata": {
    "id": "TuMad9p5d4iM"
   },
   "source": [
    "and with conditional options:"
   ]
  },
  {
   "cell_type": "code",
   "execution_count": null,
   "metadata": {
    "id": "hqbwHW9fd4iR",
    "run_control": {
     "frozen": false,
     "read_only": false
    }
   },
   "outputs": [],
   "source": [
    "[i**2 for i in number_list if i>1]"
   ]
  },
  {
   "cell_type": "code",
   "execution_count": null,
   "metadata": {
    "id": "SZg_tCcSd4iR",
    "run_control": {
     "frozen": false,
     "read_only": false
    }
   },
   "outputs": [],
   "source": [
    "[i**2 for i in number_list if i>1]"
   ]
  },
  {
   "cell_type": "code",
   "execution_count": null,
   "metadata": {
    "id": "spsAYhsid4iS",
    "run_control": {
     "frozen": false,
     "read_only": false
    }
   },
   "outputs": [],
   "source": [
    "# Let's try multiplying with two on a list of strings:\n",
    "print([i*2 for i in a_repeated_list])"
   ]
  },
  {
   "cell_type": "markdown",
   "metadata": {
    "id": "qoZoka9sd4iS"
   },
   "source": [
    "Cool, this works! let's check more about strings:"
   ]
  },
  {
   "cell_type": "markdown",
   "metadata": {
    "id": "xvTJQ3WGd4iT"
   },
   "source": [
    "#### Strings"
   ]
  },
  {
   "cell_type": "markdown",
   "metadata": {
    "id": "NmPXVv9Bd4iT"
   },
   "source": [
    "Different string syntaxes (simple, double or triple quotes)"
   ]
  },
  {
   "cell_type": "code",
   "execution_count": null,
   "metadata": {
    "id": "vk4upc9Ud4iT",
    "run_control": {
     "frozen": false,
     "read_only": false
    }
   },
   "outputs": [],
   "source": [
    "s = 'Never gonna give you up'\n",
    "print(s)\n",
    "s = \"never gonna let you down\"\n",
    "print(s)\n",
    "s = '''Never gonna run around \n",
    "    and desert you'''         \n",
    "print(s)\n",
    "s = \"\"\"Never gonna make you cry, \n",
    "    never gonna say goodbye\"\"\"\n",
    "print(s)"
   ]
  },
  {
   "cell_type": "code",
   "execution_count": null,
   "metadata": {
    "id": "OZnwoE2Kd4iU",
    "run_control": {
     "frozen": false,
     "read_only": false
    }
   },
   "outputs": [],
   "source": [
    "## pay attention when using apostrophes! - test out the nxt two lines one at a time\n",
    "#print('Hi, what's up?')\n",
    "#print(\"Hi, what's up?\")"
   ]
  },
  {
   "cell_type": "markdown",
   "metadata": {
    "id": "W2Qnqf5dd4iV"
   },
   "source": [
    "The newline character is **\\n**, and the tab character is **\\t**."
   ]
  },
  {
   "cell_type": "code",
   "execution_count": null,
   "metadata": {
    "id": "0xEBTKwqd4iW",
    "run_control": {
     "frozen": false,
     "read_only": false
    }
   },
   "outputs": [],
   "source": [
    "print('''Never gonna tell a lie and hurt you.\n",
    "Never gonna give you up,\\tnever gonna let you down\n",
    "Never \\ngonna\\n run around and\\t desert\\t you''')"
   ]
  },
  {
   "cell_type": "markdown",
   "metadata": {
    "id": "Xz4j2KKod4iY"
   },
   "source": [
    "Strings are collections like lists. Hence they can be indexed and sliced, using the same syntax and rules."
   ]
  },
  {
   "cell_type": "code",
   "execution_count": null,
   "metadata": {
    "id": "-_C8HcrBd4iY",
    "run_control": {
     "frozen": false,
     "read_only": false
    }
   },
   "outputs": [],
   "source": [
    "a_string = \"hello\"\n",
    "print(a_string[0])\n",
    "print(a_string[1:5])\n",
    "print(a_string[-4:-1:2])"
   ]
  },
  {
   "cell_type": "markdown",
   "metadata": {
    "id": "YMqj-Gujd4iZ"
   },
   "source": [
    "Accents and special characters can also be handled in Unicode strings (see http://docs.python.org/tutorial/introduction.html#unicode-strings)."
   ]
  },
  {
   "cell_type": "code",
   "execution_count": null,
   "metadata": {
    "id": "jbH2vrsed4iZ",
    "run_control": {
     "frozen": false,
     "read_only": false
    }
   },
   "outputs": [],
   "source": [
    "print(u'Hello\\u0020World !')"
   ]
  },
  {
   "cell_type": "markdown",
   "metadata": {
    "id": "yyIEV1Dvd4ia"
   },
   "source": [
    "A string is an immutable object and it is not possible to modify its contents. One may however create new strings from the original one."
   ]
  },
  {
   "cell_type": "code",
   "execution_count": null,
   "metadata": {
    "id": "URKEHFzOd4ia",
    "run_control": {
     "frozen": false,
     "read_only": false
    }
   },
   "outputs": [],
   "source": [
    "#a_string[3] = 'q'   # uncomment this cell"
   ]
  },
  {
   "cell_type": "markdown",
   "metadata": {
    "id": "t-qz-5Vjd4ib"
   },
   "source": [
    "We won't introduce all methods on strings, but let's check the namespace and apply a few of them:"
   ]
  },
  {
   "cell_type": "code",
   "execution_count": null,
   "metadata": {
    "id": "1j_Qszqmd4ib",
    "run_control": {
     "frozen": false,
     "read_only": false
    }
   },
   "outputs": [],
   "source": [
    "#dir(str) # uncomment this cell"
   ]
  },
  {
   "cell_type": "code",
   "execution_count": null,
   "metadata": {
    "id": "SrT9QNUxd4ic",
    "run_control": {
     "frozen": false,
     "read_only": false
    }
   },
   "outputs": [],
   "source": [
    "another_string = \"Strawberry-raspBerry pAstry package party\"\n",
    "another_string.lower().replace('r', 'l', 7)"
   ]
  },
  {
   "cell_type": "markdown",
   "metadata": {
    "id": "0ICVS0xJd4ic"
   },
   "source": [
    "String formatting to make the output as wanted can be done as follows:"
   ]
  },
  {
   "cell_type": "code",
   "execution_count": null,
   "metadata": {
    "id": "lk-hohURd4id",
    "run_control": {
     "frozen": false,
     "read_only": false
    }
   },
   "outputs": [],
   "source": [
    "print('An integer: %i; a float: %f; another string: %s' % (1, 0.1, 'string'))"
   ]
  },
  {
   "cell_type": "markdown",
   "metadata": {
    "id": "hF_Tn4JOd4id"
   },
   "source": [
    "The [`format` string print](https://pyformat.info/) options in python 3 are able to interpret the conversions itself:"
   ]
  },
  {
   "cell_type": "code",
   "execution_count": null,
   "metadata": {
    "id": "b1fo8uLSd4id",
    "run_control": {
     "frozen": false,
     "read_only": false
    }
   },
   "outputs": [],
   "source": [
    "print('An integer: {}; a float: {}; another string: {}'.format(1, 0.1, 'string'))"
   ]
  },
  {
   "cell_type": "code",
   "execution_count": null,
   "metadata": {
    "id": "-OEp5B75d4ie",
    "run_control": {
     "frozen": false,
     "read_only": false
    }
   },
   "outputs": [],
   "source": [
    "n_dataset_number = 20\n",
    "sFilename = 'processing_of_dataset_%d.txt' % n_dataset_number\n",
    "print(sFilename)"
   ]
  },
  {
   "cell_type": "markdown",
   "metadata": {
    "id": "wMgULf4bd4ie"
   },
   "source": [
    "<div class=\"alert alert alert-success\">\n",
    "    <b>Exercise</b>: With the `dir(list)` command, all the methods of the list type are printed. However, where not interested in the hidden methods. Use a list comprehension to only print the non-hidden methods (methods with no starting or trailing '_'):\n",
    "</div>"
   ]
  },
  {
   "cell_type": "code",
   "execution_count": null,
   "metadata": {
    "id": "5r3UPfU6d4if"
   },
   "outputs": [],
   "source": []
  },
  {
   "cell_type": "markdown",
   "metadata": {
    "id": "DJbD2QYqd4if"
   },
   "source": [
    "<div class=\"alert alert alert-success\">\n",
    "    <b>Exercise</b>: Given the previous sentence `the quick brown fox jumps over the lazy dog`, split the sentence and put all the word-lengths in a list. \n",
    "</div>"
   ]
  },
  {
   "cell_type": "code",
   "execution_count": null,
   "metadata": {
    "id": "lCuW9fQUd4ig",
    "run_control": {
     "frozen": false,
     "read_only": false
    }
   },
   "outputs": [],
   "source": [
    "sentence = \"the quick brown fox jumps over the lazy dog\""
   ]
  },
  {
   "cell_type": "code",
   "execution_count": null,
   "metadata": {
    "id": "6OXSvlyZd4ig"
   },
   "outputs": [],
   "source": []
  },
  {
   "cell_type": "markdown",
   "metadata": {
    "id": "_756qtJmd4ig"
   },
   "source": [
    "------------"
   ]
  },
  {
   "cell_type": "markdown",
   "metadata": {
    "id": "JyqiYnKBd4ih"
   },
   "source": [
    "#### Dictionaries"
   ]
  },
  {
   "cell_type": "markdown",
   "metadata": {
    "id": "wR9SGnW6d4ih"
   },
   "source": [
    "A dictionary is basically an efficient table that **maps keys to values**. It is an **unordered** container\n",
    "\n",
    "It can be used to conveniently store and retrieve values associated with a name"
   ]
  },
  {
   "cell_type": "code",
   "execution_count": null,
   "metadata": {
    "id": "_si0sCxod4ii",
    "run_control": {
     "frozen": false,
     "read_only": false
    }
   },
   "outputs": [],
   "source": [
    "# Always key : value combinations, datatypes can be mixed\n",
    "hourly_wage = {'Jos':10, 'Frida': 9, 'Gaspard': '13', 23 : 3}\n",
    "hourly_wage"
   ]
  },
  {
   "cell_type": "code",
   "execution_count": null,
   "metadata": {
    "id": "06Uwin04d4ii",
    "run_control": {
     "frozen": false,
     "read_only": false
    }
   },
   "outputs": [],
   "source": [
    "hourly_wage['Jos']"
   ]
  },
  {
   "cell_type": "markdown",
   "metadata": {
    "id": "5pP7JK9Qd4ij"
   },
   "source": [
    "Adding an extra element:"
   ]
  },
  {
   "cell_type": "code",
   "execution_count": null,
   "metadata": {
    "id": "sPoCJ5Ncd4ij",
    "run_control": {
     "frozen": false,
     "read_only": false
    }
   },
   "outputs": [],
   "source": [
    "hourly_wage['Antoinette'] = 15\n",
    "hourly_wage"
   ]
  },
  {
   "cell_type": "markdown",
   "metadata": {
    "id": "V-WGYL8Od4ik"
   },
   "source": [
    "You can get the keys and values separately:"
   ]
  },
  {
   "cell_type": "code",
   "execution_count": null,
   "metadata": {
    "id": "XtWOEE0ud4ik",
    "run_control": {
     "frozen": false,
     "read_only": false
    }
   },
   "outputs": [],
   "source": [
    "hourly_wage.keys()"
   ]
  },
  {
   "cell_type": "code",
   "execution_count": null,
   "metadata": {
    "id": "EFS6dW3Fd4il",
    "run_control": {
     "frozen": false,
     "read_only": false
    }
   },
   "outputs": [],
   "source": [
    "hourly_wage.values()"
   ]
  },
  {
   "cell_type": "code",
   "execution_count": null,
   "metadata": {
    "id": "a1W3IMYEd4il",
    "run_control": {
     "frozen": false,
     "read_only": false
    }
   },
   "outputs": [],
   "source": [
    "hourly_wage.items() # all combinations in a list"
   ]
  },
  {
   "cell_type": "code",
   "execution_count": null,
   "metadata": {
    "id": "BWIwbmu_d4im",
    "run_control": {
     "frozen": false,
     "read_only": false
    }
   },
   "outputs": [],
   "source": [
    "# ignore this loop for now, this will be explained later\n",
    "for key, value in hourly_wage.items():\n",
    "    print(key,' earns ', value, '€/hour')"
   ]
  },
  {
   "cell_type": "markdown",
   "metadata": {
    "id": "Fg05dFIbd4in"
   },
   "source": [
    "<div class=\"alert alert alert-success\">\n",
    "    <b>Exercise</b> Put all keys of the hourly_wage dictionary in a list as strings.  If their not yet a string, convert them:\n",
    "</div>"
   ]
  },
  {
   "cell_type": "code",
   "execution_count": null,
   "metadata": {
    "id": "qwUa5Uzbd4io"
   },
   "outputs": [],
   "source": [
    "hourly_wage = {'Jos':10, 'Frida': 9, 'Gaspard': '13', 23 : 3}"
   ]
  },
  {
   "cell_type": "code",
   "execution_count": null,
   "metadata": {
    "id": "-da5CLO2d4ip"
   },
   "outputs": [],
   "source": []
  },
  {
   "cell_type": "markdown",
   "metadata": {
    "id": "zsOk49lvd4ip"
   },
   "source": [
    "----------------------------"
   ]
  },
  {
   "cell_type": "markdown",
   "metadata": {
    "id": "Vf5sDHrPd4ip"
   },
   "source": [
    "#### Tuples"
   ]
  },
  {
   "cell_type": "markdown",
   "metadata": {
    "id": "_aTbZVUId4iq"
   },
   "source": [
    "Tuples are basically immutable lists. The elements of a tuple are written between parentheses, or just separated by commas"
   ]
  },
  {
   "cell_type": "code",
   "execution_count": null,
   "metadata": {
    "id": "zmsSO0c0d4iq",
    "run_control": {
     "frozen": false,
     "read_only": false
    }
   },
   "outputs": [],
   "source": [
    "a_tuple = (2, 3, 'aa', [1, 2])\n",
    "a_tuple"
   ]
  },
  {
   "cell_type": "code",
   "execution_count": null,
   "metadata": {
    "id": "-ahcgaAXd4ir",
    "run_control": {
     "frozen": false,
     "read_only": false
    }
   },
   "outputs": [],
   "source": [
    "a_second_tuple = 2, 3, 'aa', [1,2]\n",
    "a_second_tuple"
   ]
  },
  {
   "cell_type": "markdown",
   "metadata": {
    "id": "Tx-JcB8Hd4ir"
   },
   "source": [
    "the key concept here is mutable vs. immutable\n",
    "* mutable objects can be changed in place\n",
    "* immutable objects cannot be modified once created"
   ]
  }
 ],
 "metadata": {
  "celltoolbar": "Nbtutor - export exercises",
  "colab": {
   "collapsed_sections": [
    "xvTJQ3WGd4iT",
    "JyqiYnKBd4ih",
    "Vf5sDHrPd4ip"
   ],
   "name": "01-basic-Enoncé (1).ipynb",
   "provenance": []
  },
  "kernelspec": {
   "display_name": "Python 3",
   "language": "python",
   "name": "python3"
  },
  "language_info": {
   "codemirror_mode": {
    "name": "ipython",
    "version": 3
   },
   "file_extension": ".py",
   "mimetype": "text/x-python",
   "name": "python",
   "nbconvert_exporter": "python",
   "pygments_lexer": "ipython3",
   "version": "3.8.8"
  },
  "nav_menu": {},
  "toc": {
   "navigate_menu": true,
   "number_sections": true,
   "sideBar": true,
   "threshold": 6,
   "toc_cell": false,
   "toc_section_display": "block",
   "toc_window_display": true
  }
 },
 "nbformat": 4,
 "nbformat_minor": 1
}
